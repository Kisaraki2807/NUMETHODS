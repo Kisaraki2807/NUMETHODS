{
 "cells": [
  {
   "cell_type": "markdown",
   "metadata": {},
   "source": [
    "# Métodos Iterativos\n",
    "\n",
    "## Exemplos  Jacobi-Richardson\n"
   ]
  },
  {
   "cell_type": "code",
   "execution_count": 10,
   "metadata": {
    "collapsed": false
   },
   "outputs": [
    {
     "name": "stdout",
     "output_type": "stream",
     "text": [
      "1.0 1.0\n",
      "0.5 1.5\n",
      "0.25 1.25\n",
      "0.375 1.125\n",
      "0.4375 1.1875\n",
      "0.40625 1.21875\n",
      "0.390625 1.203125\n",
      "0.3984375 1.1953125\n",
      "0.40234375 1.19921875\n",
      "0.400390625 1.201171875\n"
     ]
    }
   ],
   "source": [
    "import numpy as np\n",
    "\n",
    "(x1,x2) = (0,0)\n",
    "\n",
    "f = lambda x1,x2: (1-0.5*x2, 1+0.5*x1)\n",
    "\n",
    "for i in range(10):\n",
    "    (x1,x2) = f(x1, x2)\n",
    "    print (x1,x2)\n"
   ]
  },
  {
   "cell_type": "code",
   "execution_count": 2,
   "metadata": {
    "collapsed": false
   },
   "outputs": [
    {
     "name": "stdout",
     "output_type": "stream",
     "text": [
      "(1.4000, 2.2000, 0.8000)\n",
      "(0.8800, 1.7600, -0.1400)\n",
      "(1.0620, 2.0520, 0.0960)\n",
      "(0.9800, 1.9684, -0.0280)\n",
      "(1.0091, 2.0096, 0.0135)\n",
      "(0.9967, 1.9955, -0.0047)\n",
      "(1.0014, 2.0016, 0.0020)\n",
      "(0.9995, 1.9993, -0.0008)\n",
      "(1.0002, 2.0003, 0.0003)\n",
      "(0.9999, 1.9999, -0.0001)\n",
      "(1.0000, 2.0000, 0.0000)\n",
      "(1.0000, 2.0000, -0.0000)\n",
      "(1.0000, 2.0000, 0.0000)\n",
      "(1.0000, 2.0000, -0.0000)\n",
      "(1.0000, 2.0000, 0.0000)\n",
      "(1.0000, 2.0000, -0.0000)\n",
      "(1.0000, 2.0000, 0.0000)\n",
      "(1.0000, 2.0000, -0.0000)\n",
      "(1.0000, 2.0000, 0.0000)\n",
      "(1.0000, 2.0000, -0.0000)\n"
     ]
    }
   ],
   "source": [
    "x = [0,0,0]\n",
    "\n",
    "x1 = lambda x2, x3: 1.4 - 0.2*x2 - 0.1*x3\n",
    "x2 = lambda x1, x3: 2.2 - 0.2*x1 - 0.2*x3\n",
    "x3 = lambda x1, x2: 0.8 - 0.2*x1 - 0.3*x2\n",
    "\n",
    "for k in range(20):\n",
    "     x = [x1(x[1],x[2]), x2(x[0],x[2]), x3(x[0],x[1])]\n",
    "     print (\"(%.4f,\"%x[0],\"%.4f,\"%x[1],\"%.4f)\"%x[2])"
   ]
  },
  {
   "cell_type": "markdown",
   "metadata": {
    "collapsed": true
   },
   "source": [
    "## Exemplo: Gauss-Seidel\n"
   ]
  },
  {
   "cell_type": "code",
   "execution_count": 5,
   "metadata": {
    "collapsed": false
   },
   "outputs": [
    {
     "name": "stdout",
     "output_type": "stream",
     "text": [
      "(0.8000, 1.0333, -0.0778) err= 1.0\n",
      "(0.9911, 1.0015, -0.0035) err= 0.19082840236686394\n",
      "(0.9996, 1.0001, -0.0002) err= 0.00849326793297563\n"
     ]
    }
   ],
   "source": [
    "import numpy as np\n",
    "\n",
    "x = np.array([0.,0.,0.])\n",
    "x_ant = np.array([0.,0.,0.])\n",
    "eps = 0.01\n",
    "\n",
    "A = np.array([[-10., 2.0, 2.0],\n",
    "              [ 1.0, 6.0, 0.0],\n",
    "              [-1.0, 1.0, 3.0]])\n",
    "b = np.array([-8., 7., 0.])\n",
    "\n",
    "x1 = lambda x2, x3: (b[0] - A[0,1]*x2 - A[0,2]*x3)/A[0,0]\n",
    "x2 = lambda x1, x3: (b[1] - A[1,0]*x1 - A[1,2]*x3)/A[1,1]\n",
    "x3 = lambda x1, x2: (b[2] - A[2,0]*x1 - A[2,1]*x2)/A[2,2]\n",
    "\n",
    "err = 10.\n",
    "while err>eps:\n",
    "#for k in range(5):\n",
    "    x[0] = x1(x[1],x[2])\n",
    "    x[1] = x2(x[0],x[2])\n",
    "    x[2] = x3(x[0],x[1])\n",
    "    err = np.amax(np.absolute(x-x_ant))/np.amax(np.absolute(x))   \n",
    "    print (\"(%.4f,\"%x[0],\"%.4f,\"%x[1],\"%.4f)\"%x[2], \"err=\",err)\n",
    "    x_ant = np.copy(x)"
   ]
  },
  {
   "cell_type": "code",
   "execution_count": 4,
   "metadata": {
    "collapsed": false
   },
   "outputs": [
    {
     "name": "stdout",
     "output_type": "stream",
     "text": [
      "(1.4000, 1.9200, -0.0560) err= 1.0\n",
      "(1.0216, 2.0069, -0.0064) err= 0.18855138324164877\n",
      "(0.9993, 2.0014, -0.0003) err= 0.011160851687861838\n",
      "(0.9997, 2.0001, 0.0000) err= 0.0006584584230122856\n"
     ]
    }
   ],
   "source": [
    "import numpy as np\n",
    "\n",
    "x = np.array([0.,0.,0.])\n",
    "x_ant = np.array([0.,0.,0.])\n",
    "eps = 0.01\n",
    "\n",
    "A = np.array([[10,2,1],\n",
    "              [1,5,1],\n",
    "              [2,3,10]])\n",
    "b = np.array([14,11,8])\n",
    "\n",
    "x1 = lambda x2, x3: (b[0] - A[0,1]*x2 - A[0,2]*x3)/A[0,0]\n",
    "x2 = lambda x1, x3: (b[1] - A[1,0]*x1 - A[1,2]*x3)/A[1,1]\n",
    "x3 = lambda x1, x2: (b[2] - A[2,0]*x1 - A[2,1]*x2)/A[2,2]\n",
    "\n",
    "err = 10.\n",
    "while err>eps:\n",
    "#for k in range(5):\n",
    "    x[0] = x1(x[1],x[2])\n",
    "    x[1] = x2(x[0],x[2])\n",
    "    x[2] = x3(x[0],x[1])\n",
    "    err = np.amax(np.absolute(x-x_ant))/np.amax(np.absolute(x))   \n",
    "    print (\"(%.4f,\"%x[0],\"%.4f,\"%x[1],\"%.4f)\"%x[2], \"err=\",err)\n",
    "    x_ant = np.copy(x)"
   ]
  },
  {
   "cell_type": "code",
   "execution_count": 3,
   "metadata": {
    "collapsed": false
   },
   "outputs": [
    {
     "name": "stdout",
     "output_type": "stream",
     "text": [
      "(0.2000, 0.3333, 0.1111, 0.1683, 0.0583,) err= 1.0\n",
      "(0.0669, 0.2965, 0.2304, 0.1912, 0.0796,) err= 0.44889582868614764\n",
      "(0.0262, 0.2763, 0.2461, 0.2042, 0.0872,) err= 0.14731623998678267\n",
      "(0.0229, 0.2728, 0.2561, 0.2027, 0.0880,) err= 0.03672029746344947\n",
      "(0.0201, 0.2715, 0.2550, 0.2043, 0.0886,) err= 0.010484703792705703\n",
      "(0.0205, 0.2715, 0.2562, 0.2037, 0.0885,) err= 0.004427429100359636\n",
      "(0.0202, 0.2714, 0.2558, 0.2040, 0.0886,) err= 0.0015913196833542652\n",
      "(0.0203, 0.2715, 0.2560, 0.2039, 0.0885,) err= 0.0008282016028652112\n"
     ]
    }
   ],
   "source": [
    "import numpy as np\n",
    "\n",
    "x = np.array([0.,0.,0.,0,0])\n",
    "x_ant = np.array([0.,0.,0.,0,0])\n",
    "eps = 0.001\n",
    "\n",
    "A = np.array([[5,1,2,1,-1],\n",
    "              [0,6,1,1,-1],\n",
    "              [0,1,-3,2,1],\n",
    "              [3,0,2,7,0],\n",
    "              [1,1,0,0,8]])\n",
    "b = np.array([1,2,0,2,1])\n",
    "\n",
    "x1 = lambda x2, x3, x4, x5: (b[0] - A[0,1]*x2 - A[0,2]*x3 - A[0,3]*x4 - A[0,4]*x5)/A[0,0]\n",
    "x2 = lambda x1, x3, x4, x5: (b[1] - A[1,0]*x1 - A[1,2]*x3 - A[1,3]*x4 - A[1,4]*x5)/A[1,1]\n",
    "x3 = lambda x1, x2, x4, x5: (b[2] - A[2,0]*x1 - A[2,1]*x2 - A[2,3]*x4 - A[2,4]*x5)/A[2,2]\n",
    "x4 = lambda x1, x2, x3, x5: (b[3] - A[3,0]*x1 - A[3,1]*x2 - A[3,2]*x3 - A[3,4]*x5)/A[3,3]\n",
    "x5 = lambda x1, x2, x3, x4: (b[4] - A[4,0]*x1 - A[4,1]*x2 - A[4,2]*x3 - A[4,3]*x4)/A[4,4]\n",
    "\n",
    "err = 10.\n",
    "while err>eps:\n",
    "#for k in range(5):\n",
    "    x[0] = x1(x[1],x[2],x[3],x[4])\n",
    "    x[1] = x2(x[0],x[2],x[3],x[4])\n",
    "    x[2] = x3(x[0],x[1],x[3],x[4])\n",
    "    x[3] = x4(x[0],x[1],x[2],x[4])\n",
    "    x[4] = x5(x[0],x[1],x[2],x[3])\n",
    "    err = np.amax(np.absolute(x-x_ant))/np.amax(np.absolute(x))   \n",
    "    print (\"(%.4f,\"%x[0],\"%.4f,\"%x[1],\"%.4f,\"%x[2],\"%.4f,\"%x[3],\"%.4f,)\"%x[4], \"err=\",err)\n",
    "    x_ant = np.copy(x)"
   ]
  },
  {
   "cell_type": "code",
   "execution_count": null,
   "metadata": {
    "collapsed": true
   },
   "outputs": [],
   "source": []
  }
 ],
 "metadata": {
  "kernelspec": {
   "display_name": "Python 3",
   "language": "python",
   "name": "python3"
  },
  "language_info": {
   "codemirror_mode": {
    "name": "ipython",
    "version": 3
   },
   "file_extension": ".py",
   "mimetype": "text/x-python",
   "name": "python",
   "nbconvert_exporter": "python",
   "pygments_lexer": "ipython3",
   "version": "3.5.1"
  }
 },
 "nbformat": 4,
 "nbformat_minor": 1
}

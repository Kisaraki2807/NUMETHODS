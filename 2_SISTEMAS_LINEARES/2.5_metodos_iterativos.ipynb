{
 "cells": [
  {
   "cell_type": "markdown",
   "metadata": {},
   "source": [
    "# Métodos Iterativos\n",
    "\n",
    "## Método de Jacobi-Richardson\n"
   ]
  },
  {
   "cell_type": "markdown",
   "metadata": {},
   "source": [
    "### Exemplo "
   ]
  },
  {
   "cell_type": "code",
   "execution_count": 9,
   "metadata": {
    "collapsed": false
   },
   "outputs": [
    {
     "name": "stdout",
     "output_type": "stream",
     "text": [
      "1.0 1.0\n",
      "0.5 1.5\n",
      "0.25 1.25\n",
      "0.375 1.125\n",
      "0.4375 1.1875\n",
      "0.40625 1.21875\n",
      "0.390625 1.203125\n",
      "0.3984375 1.1953125\n",
      "0.40234375 1.19921875\n",
      "0.400390625 1.201171875\n"
     ]
    }
   ],
   "source": [
    "import numpy as np\n",
    "\n",
    "(x1,x2) = (0,0)\n",
    "\n",
    "f = lambda x1,x2: (1-0.5*x2, 1+0.5*x1)\n",
    "\n",
    "for i in range(10):\n",
    "    (x1,x2) = f(x1, x2)\n",
    "    print (x1,x2)\n"
   ]
  },
  {
   "cell_type": "code",
   "execution_count": 2,
   "metadata": {
    "collapsed": false
   },
   "outputs": [
    {
     "name": "stdout",
     "output_type": "stream",
     "text": [
      "(0.8000, 1.0333, -0.0778) err= 1.0\n",
      "(0.9911, 1.0015, -0.0035) err= 0.190828402367\n",
      "(0.9996, 1.0001, -0.0002) err= 0.00849326793298\n",
      "(1.0000, 1.0000, -0.0000) err= 0.000377502324639\n"
     ]
    }
   ],
   "source": [
    "import numpy as np\n",
    "\n",
    "x = np.array([0.,0.,0.])\n",
    "x_ant = np.array([0.,0.,0.])\n",
    "eps = 0.001\n",
    "\n",
    "A = np.array([[-10., 2.0, 2.0],\n",
    "              [ 1.0, 6.0, 0.0],\n",
    "              [-1.0, 1.0, 3.0]])\n",
    "b = np.array([-8., 7., 0.])\n",
    "\n",
    "x1 = lambda x2, x3: (b[0] - A[0,1]*x2 - A[0,2]*x3)/A[0,0]\n",
    "x2 = lambda x1, x3: (b[1] - A[1,0]*x1 - A[1,2]*x3)/A[1,1]\n",
    "x3 = lambda x1, x2: (b[2] - A[2,0]*x1 - A[2,1]*x2)/A[2,2]\n",
    "\n",
    "err = 10.\n",
    "while err>eps:\n",
    "#for k in range(5):\n",
    "    x[0] = x1(x[1],x[2])\n",
    "    x[1] = x2(x[0],x[2])\n",
    "    x[2] = x3(x[0],x[1])\n",
    "    err = np.amax(np.absolute(x-x_ant))/np.amax(np.absolute(x))   \n",
    "    print (\"(%.4f,\"%x[0],\"%.4f,\"%x[1],\"%.4f)\"%x[2], \"err=\",err)\n",
    "    x_ant = np.copy(x)"
   ]
  },
  {
   "cell_type": "markdown",
   "metadata": {},
   "source": [
    "### Exemplo: Jacobi-Richardson"
   ]
  },
  {
   "cell_type": "code",
   "execution_count": 1,
   "metadata": {
    "collapsed": false
   },
   "outputs": [
    {
     "name": "stdout",
     "output_type": "stream",
     "text": [
      "(1.4000, 2.2000, 0.8000)\n",
      "(0.8800, 1.7600, -0.1400)\n",
      "(1.0620, 2.0520, 0.0960)\n",
      "(0.9800, 1.9684, -0.0280)\n",
      "(1.0091, 2.0096, 0.0135)\n",
      "(0.9967, 1.9955, -0.0047)\n"
     ]
    }
   ],
   "source": [
    "x = [0,0,0]\n",
    "\n",
    "x1 = lambda x2, x3: 1.4 - 0.2*x2 - 0.1*x3\n",
    "x2 = lambda x1, x3: 2.2 - 0.2*x1 - 0.2*x3\n",
    "x3 = lambda x1, x2: 0.8 - 0.2*x1 - 0.3*x2\n",
    "\n",
    "for k in range(6):\n",
    "     x = [x1(x[1],x[2]), x2(x[0],x[2]), x3(x[0],x[1])]\n",
    "     print (\"(%.4f,\"%x[0],\"%.4f,\"%x[1],\"%.4f)\"%x[2])"
   ]
  },
  {
   "cell_type": "code",
   "execution_count": null,
   "metadata": {
    "collapsed": true
   },
   "outputs": [],
   "source": []
  }
 ],
 "metadata": {
  "kernelspec": {
   "display_name": "Python 3",
   "language": "python",
   "name": "python3"
  },
  "language_info": {
   "codemirror_mode": {
    "name": "ipython",
    "version": 3
   },
   "file_extension": ".py",
   "mimetype": "text/x-python",
   "name": "python",
   "nbconvert_exporter": "python",
   "pygments_lexer": "ipython3",
   "version": "3.5.1"
  }
 },
 "nbformat": 4,
 "nbformat_minor": 0
}

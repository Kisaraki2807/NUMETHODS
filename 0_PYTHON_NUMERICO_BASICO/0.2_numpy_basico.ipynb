{
 "cells": [
  {
   "cell_type": "markdown",
   "metadata": {},
   "source": [
    "# 0.2 O básico sobre Numpy\n",
    "\n",
    "## Vectors, Matrices, and Multidimensional Arrays\n",
    "\n",
    "Vetores, matrizes e _arrays_ de dimensões superiores são ferramentas essenciais na computação numérica. Quando um o cálculo deve ser repetido para um conjunto de valores de entrada, é natural e vantajoso representar o\n",
    "dados como _arrays_ e o cálculo em termos de operações entre _arrays_.\n",
    "\n",
    "Processamento computacional numérico formulado dessa forma são ditos vetorizados. A computação vetorizada elimina a necessidade de muitos _loops_ explícitos sobre os elementos da matriz, aplicando operações em blocos de dados da matriz. \n",
    "\n",
    "O resultado é um código conciso e mais fácil de entender e gerenciar, além disso, permite realizar operações em bibliotecas de baixo nível, mais eficientes. Computações vetorizadas podem, portanto, ser significativamente mais rápidas do que cálculos sequenciais elemento a elemento. \n",
    "\n",
    "Isso é particularmente importante em uma linguagem interpretada como Python, onde laços elemento a elemento resultam em uma demanda de desempenho significativa.\n",
    "\n",
    "No ambiente de computação científica do Python, estruturas de dados eficientes para trabalhar com matrizes são fornecido pela biblioteca NumPy. \n",
    "\n",
    "O núcleo do NumPy é implementado em C e fornece funções eficientes\n",
    "para manipular e processar matrizes. \n",
    "\n",
    "À primeira vista, os arrays NumPy têm alguma semelhança com o Python\n",
    "listar estrutura de dados. Mas uma diferença importante é que, enquanto as listas do Python são recipientes genéricos de objetos,\n",
    "Os arrays NumPy são homogêneos e datilografam matrizes de tamanho fixo. Homogênea significa que todos os elementos no\n",
    "array tem o mesmo tipo de dados. Tamanho fixo significa que um array não pode ser redimensionado (sem criar um novo\n",
    "array). Por essas e outras razões, as operações e funções que atuam nos arrays NumPy podem ser muito mais\n",
    "eficiente do que operações em listas do Python. Além das estruturas de dados para matrizes, o NumPy também fornece\n",
    "uma grande coleção de operadores e funções básicas que atuam nessas estruturas de dados, bem como submódulos\n",
    "com algoritmos de nível superior, como álgebra linear e transformações rápidas de Fourier.\n",
    "Neste capítulo, primeiro examinamos a estrutura de dados NumPy básica para matrizes e vários métodos para\n",
    "criar tais matrizes NumPy. Em seguida, examinamos as operações para manipular arrays e para fazer cálculos\n",
    "com matrizes. O array de dados multidimensional fornecido pelo NumPy é uma base para quase todos os\n",
    "bibliotecas para Python. Gastar tempo para se familiarizar com o NumPy e desenvolver um entendimento de como\n",
    "O trabalho do NumPy é, portanto, importante.\n"
   ]
  },
  {
   "cell_type": "markdown",
   "metadata": {},
   "source": [
    "## Vetorizando uma função\n",
    "\n",
    "Ocasionalmente é necessário definir novas funções que operam em matrizes numpy em uma base elemento-por-elemento. Uma boa maneira de implementar essas funções é expressá-la em termos de operadores numpy já existentes e expressões, mas em casos em que isso não é possível, a função np. vectorize pode ser uma ferramenta conveniente. Essa função usa uma função não-vetorial e retorna uma função vetorial. Por exemplo, considere a seguinte implementação da função Step Heaviside, que funciona para entrada escalar:\n"
   ]
  },
  {
   "cell_type": "code",
   "execution_count": 3,
   "metadata": {},
   "outputs": [
    {
     "name": "stdout",
     "output_type": "stream",
     "text": [
      "0\n"
     ]
    }
   ],
   "source": [
    "def heaviside(x):\n",
    "    return 1 if x>0 else 0\n",
    "\n",
    "print(heaviside(-1))"
   ]
  },
  {
   "cell_type": "code",
   "execution_count": 4,
   "metadata": {},
   "outputs": [
    {
     "name": "stdout",
     "output_type": "stream",
     "text": [
      "1\n"
     ]
    }
   ],
   "source": [
    "print(heaviside(1.5))"
   ]
  },
  {
   "cell_type": "code",
   "execution_count": 6,
   "metadata": {},
   "outputs": [
    {
     "name": "stdout",
     "output_type": "stream",
     "text": [
      "[-5. -4. -3. -2. -1.  0.  1.  2.  3.  4.  5.]\n"
     ]
    }
   ],
   "source": [
    "import numpy as np\n",
    "x = np.linspace(-5,5,11)\n",
    "print (x)"
   ]
  },
  {
   "cell_type": "code",
   "execution_count": 7,
   "metadata": {},
   "outputs": [
    {
     "ename": "ValueError",
     "evalue": "The truth value of an array with more than one element is ambiguous. Use a.any() or a.all()",
     "output_type": "error",
     "traceback": [
      "\u001b[1;31m---------------------------------------------------------------------------\u001b[0m",
      "\u001b[1;31mValueError\u001b[0m                                Traceback (most recent call last)",
      "\u001b[1;32m<ipython-input-7-52f34380192d>\u001b[0m in \u001b[0;36m<module>\u001b[1;34m()\u001b[0m\n\u001b[1;32m----> 1\u001b[1;33m \u001b[0mheaviside\u001b[0m\u001b[1;33m(\u001b[0m\u001b[0mx\u001b[0m\u001b[1;33m)\u001b[0m\u001b[1;33m\u001b[0m\u001b[0m\n\u001b[0m",
      "\u001b[1;32m<ipython-input-3-e5e14345b206>\u001b[0m in \u001b[0;36mheaviside\u001b[1;34m(x)\u001b[0m\n\u001b[0;32m      1\u001b[0m \u001b[1;32mdef\u001b[0m \u001b[0mheaviside\u001b[0m\u001b[1;33m(\u001b[0m\u001b[0mx\u001b[0m\u001b[1;33m)\u001b[0m\u001b[1;33m:\u001b[0m\u001b[1;33m\u001b[0m\u001b[0m\n\u001b[1;32m----> 2\u001b[1;33m     \u001b[1;32mreturn\u001b[0m \u001b[1;36m1\u001b[0m \u001b[1;32mif\u001b[0m \u001b[0mx\u001b[0m\u001b[1;33m>\u001b[0m\u001b[1;36m0\u001b[0m \u001b[1;32melse\u001b[0m \u001b[1;36m0\u001b[0m\u001b[1;33m\u001b[0m\u001b[0m\n\u001b[0m\u001b[0;32m      3\u001b[0m \u001b[1;33m\u001b[0m\u001b[0m\n\u001b[0;32m      4\u001b[0m \u001b[0mprint\u001b[0m\u001b[1;33m(\u001b[0m\u001b[0mheaviside\u001b[0m\u001b[1;33m(\u001b[0m\u001b[1;33m-\u001b[0m\u001b[1;36m1\u001b[0m\u001b[1;33m)\u001b[0m\u001b[1;33m)\u001b[0m\u001b[1;33m\u001b[0m\u001b[0m\n",
      "\u001b[1;31mValueError\u001b[0m: The truth value of an array with more than one element is ambiguous. Use a.any() or a.all()"
     ]
    }
   ],
   "source": [
    "heaviside(x)"
   ]
  },
  {
   "cell_type": "code",
   "execution_count": 8,
   "metadata": {},
   "outputs": [
    {
     "data": {
      "text/plain": [
       "array([0, 0, 0, 0, 0, 0, 1, 1, 1, 1, 1])"
      ]
     },
     "execution_count": 8,
     "metadata": {},
     "output_type": "execute_result"
    }
   ],
   "source": [
    "heaviside = np.vectorize(heaviside)\n",
    "heaviside(x) "
   ]
  },
  {
   "cell_type": "markdown",
   "metadata": {},
   "source": [
    "## Manipulando matrizes\n"
   ]
  },
  {
   "cell_type": "markdown",
   "metadata": {},
   "source": [
    "### Exemplo\n",
    "construindo a matriz ampliada (A|b) para processar a eliminação de Gauss"
   ]
  },
  {
   "cell_type": "code",
   "execution_count": 27,
   "metadata": {},
   "outputs": [
    {
     "name": "stdout",
     "output_type": "stream",
     "text": [
      "[[ 4 -2  1]\n",
      " [-2  4 -2]\n",
      " [ 1 -2  4]]\n"
     ]
    }
   ],
   "source": [
    "A = np.array([[4,-2,1],[-2,4,-2],[1,-2,4]])\n",
    "print (A)"
   ]
  },
  {
   "cell_type": "code",
   "execution_count": 28,
   "metadata": {},
   "outputs": [
    {
     "name": "stdout",
     "output_type": "stream",
     "text": [
      "[ 11 -16  17]\n"
     ]
    }
   ],
   "source": [
    "b = np.array([11,-16,17])\n",
    "print (b)"
   ]
  },
  {
   "cell_type": "code",
   "execution_count": 29,
   "metadata": {},
   "outputs": [
    {
     "name": "stdout",
     "output_type": "stream",
     "text": [
      "[[ 11]\n",
      " [-16]\n",
      " [ 17]]\n"
     ]
    }
   ],
   "source": [
    "b = b.reshape(3,1)\n",
    "print (b)"
   ]
  },
  {
   "cell_type": "code",
   "execution_count": 30,
   "metadata": {},
   "outputs": [
    {
     "name": "stdout",
     "output_type": "stream",
     "text": [
      "[[  4  -2   1  11]\n",
      " [ -2   4  -2 -16]\n",
      " [  1  -2   4  17]]\n"
     ]
    }
   ],
   "source": [
    "Ab = np.hstack((A, b))\n",
    "print (Ab)"
   ]
  },
  {
   "cell_type": "code",
   "execution_count": null,
   "metadata": {},
   "outputs": [],
   "source": []
  }
 ],
 "metadata": {
  "kernelspec": {
   "display_name": "Python 3",
   "language": "python",
   "name": "python3"
  },
  "language_info": {
   "codemirror_mode": {
    "name": "ipython",
    "version": 3
   },
   "file_extension": ".py",
   "mimetype": "text/x-python",
   "name": "python",
   "nbconvert_exporter": "python",
   "pygments_lexer": "ipython3",
   "version": "3.6.4"
  }
 },
 "nbformat": 4,
 "nbformat_minor": 2
}

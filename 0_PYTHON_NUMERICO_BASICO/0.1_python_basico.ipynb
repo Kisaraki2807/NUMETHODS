{
 "cells": [
  {
   "cell_type": "markdown",
   "metadata": {},
   "source": [
    "# 0.1 O Básico Sobre Python\n",
    "\n",
    "Python é uma linguagem orientada a objetos desenvolvida no final da década de 1980 como uma linguagem de script. Apesar de Python não ser a linguagem preferida de engenheiros e cientistas, existe um número considerável e crescente de usuários na comunidade de programadores. Python pode ser visto como uma linguagem emergente, porque ele ainda está sendo desenvolvido e reﬁnada. Em seu estado atual, é uma excelente linguagem para o desenvolvimento de aplicações e protótipos para computação científica e engenharia. Python também é conhecida por ser de fácil e rápido aprendizado.\n",
    "\n",
    "Os programas Python, em geral, não são compilados em código de máquina, mas são executados por um interpretador. A grande vantagem de uma linguagem interpretada é que os programas podem ser testados e depurados facilmente, permitindo ao usuário concentrar-se mais na lógia e funcionalmento do programa do que com a sintaxe e escrita do programa. Como não há necessidade de compilar, vincular e executar após cada correção, os programas Python podem ser desenvolvidos em tempo muito mais curto do que os programas Fortran ou C equivalentes. Uma desvantagem é que os programas interpretados não produzem aplicativos autônomos, ou seja, para serem executados, é preciso um computador com o interpretador python instalado.\n",
    "\n",
    "Python também tem outras vantagens sobre as outras liguagens mais utilizadas que são importantes em uma ambiente de aprendizagem:\n",
    "\n",
    "• Python é um s\n",
    "is an open-source software, which means that it is free; it is included in mostLinuxdistributions. • Python is available for all major operating systems (Linux, Unix, Windows, Mac OS, and so on). A program written on one system runs without modiﬁcation on allsystems.\n",
    " Pythoniseasiertolearnandproducesmorereadablecodethanmostlanguages. • Pythonanditsextensionsareeasytoinstall. DevelopmentofPythonhasbeenclearlyinﬂuencedbyJavaandC++,butthereis alsoaremarkablesimilaritytoMATLABR (anotherinterpretedlanguage,verypopular in scientiﬁc computing). Python implements the usual concepts of object-oriented languages such as classes, methods, inheritance etc. We do not use object-oriented programming in this text. The only object that we need is the N-dimensional array availableinthemodule numpy (thismoduleisdiscussedlaterinthischapter). \n",
    "\n",
    "## Tipos de dados e operações básicas\n",
    "\n",
    "Os tipos de dados primitivos (já embutidos no núcleo da linguagem) disponíveis em Python podem ser simples: números (int, long, float, complex) ou cadeias de caracteres (strings), ou compostos: listas, dicionários, tuplas e conjuntos. Além dos tipos primitivos, existem os tipos de dados que são definidos pelo usuário. \n",
    "\n",
    "Os dados são armazenados em **variáveis** e podem ser processados usando funções ou operadores. Python usa *tipagem dinâmica*, o que significa que uma variável pode mudar o tipo do dado que armazena dinamicamente. O exemplo abaixo mostra algumas operações e mudança do tipo de dados armazenados.\n",
    "\n",
    "**EXEMPLO 1**"
   ]
  },
  {
   "cell_type": "code",
   "execution_count": 16,
   "metadata": {},
   "outputs": [
    {
     "name": "stdout",
     "output_type": "stream",
     "text": [
      "Tipo do dado em a: <class 'int'>\n",
      "Tipo do dado em b: <class 'float'>\n",
      "7.4\n"
     ]
    }
   ],
   "source": [
    "a = 3\n",
    "print (\"Tipo do dado em a:\",type(a))\n",
    "\n",
    "b = 2.2\n",
    "print (\"Tipo do dado em b:\",type(b))\n",
    "\n",
    "c = a + 2*b\n",
    "print (c)"
   ]
  },
  {
   "cell_type": "markdown",
   "metadata": {},
   "source": [
    "Os operadores aritméticos usados em python são\n",
    "\n",
    "<img src=\"https://github.com/tiagoburiol/NUMETHODS/raw/master/0_PYTHON_BASICO/imagens/operadores_aritmeticos.jpg\" width=\"480\">\n"
   ]
  },
  {
   "cell_type": "markdown",
   "metadata": {},
   "source": [
    "Os operadores aritméticos usados em python são\n",
    "\n",
    "<img src=\"https://github.com/tiagoburiol/NUMETHODS/raw/master/0_PYTHON_BASICO/imagens/operadores_relacionais.jpg\" width=\"440\">\n",
    "\n",
    "Os operadores lógicos são **and**, **or** e **not**."
   ]
  },
  {
   "cell_type": "markdown",
   "metadata": {},
   "source": [
    "O exemplo a seguir mostra algumas formas de modificar o tipo dado armazenado em uma variável.\n",
    "\n",
    "** EXEMPLO 2**"
   ]
  },
  {
   "cell_type": "code",
   "execution_count": 17,
   "metadata": {},
   "outputs": [
    {
     "name": "stdout",
     "output_type": "stream",
     "text": [
      "7 <class 'int'>\n",
      "2.3333333333333335 <class 'float'>\n",
      "2 <class 'int'>\n",
      "(2+0j) <class 'complex'>\n",
      "(2+0j) <class 'str'>\n"
     ]
    }
   ],
   "source": [
    "x = 7\n",
    "print (x,type(x))\n",
    "\n",
    "x = 7/3\n",
    "print (x,type(x))\n",
    "\n",
    "x = int(x)\n",
    "print (x,type(x))\n",
    "\n",
    "x = complex(x)\n",
    "print (x,type(x))\n",
    "\n",
    "x = str(x)\n",
    "print (x,type(x))"
   ]
  },
  {
   "cell_type": "markdown",
   "metadata": {},
   "source": [
    "Além dos tipos numéricos e de caracteres, as listas e tuplas são bastante úteis em computação numérica. \n",
    "\n",
    "As listas são um tipo de variável muito útil no Python. Uma lista pode conter uma série de valores. As variáveis de lista são declaradas usando colchetes [] após o nome da variável.\n",
    "\n",
    "Tuplas são uma sequência de valores assim como uma lista e são manipulados de maneira similar. Mas as tuplas são fixas em tamanho quando são atribuídas. Em Python, o tamanho fixo é considerado imutável em comparação a uma lista dinâmica e mutável. Tuplas são definidas por parênteses ().\n",
    "\n",
    "**EXEMPLO 3**"
   ]
  },
  {
   "cell_type": "code",
   "execution_count": 19,
   "metadata": {},
   "outputs": [
    {
     "name": "stdout",
     "output_type": "stream",
     "text": [
      "5\n"
     ]
    }
   ],
   "source": [
    "l = [2, -1, 4]\n",
    "\n",
    "\n",
    "\n",
    "print (sum(l))"
   ]
  }
 ],
 "metadata": {
  "kernelspec": {
   "display_name": "Python 3",
   "language": "python",
   "name": "python3"
  },
  "language_info": {
   "codemirror_mode": {
    "name": "ipython",
    "version": 3
   },
   "file_extension": ".py",
   "mimetype": "text/x-python",
   "name": "python",
   "nbconvert_exporter": "python",
   "pygments_lexer": "ipython3",
   "version": "3.6.4"
  }
 },
 "nbformat": 4,
 "nbformat_minor": 1
}

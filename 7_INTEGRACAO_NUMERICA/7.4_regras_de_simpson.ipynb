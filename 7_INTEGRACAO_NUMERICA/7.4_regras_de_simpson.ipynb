{
 "cells": [
  {
   "cell_type": "markdown",
   "metadata": {},
   "source": [
    "## 7.2 Regra 1/3 de Simpson \n",
    "\n",
    "Considere uma função $f(x)$ definida em três pontos distintos $x_0$, $x_1$ e $x_2$ equidistantes no intervalo $[a,b]$. O polinômio de Lagrange para esses pontos, considerando a mudança de variável $u = \\frac{x-x_0}{h}$ é dado por\n",
    "\n",
    "$$ P_2(u) =  f(x_0) \\left( \\frac{u^2-3u+2}{2}\\right) + f(x_1)\\left( \\frac{u^2-2u}{-1}\\right) + f(x_2)\\left( \\frac{u^2-u}{2}\\right)$$\n",
    "\n",
    "A integral pode ser aproximada como segue \n",
    "\n",
    "$$ \\int_{x_0}^{x_n} f(x) dx \\approx \\int_{x_0}^{x_2} P_2(x) dx= h \\int_{0}^{2} P_2(u) du $$\n",
    "\n",
    "ou, ainda,\n",
    "\n",
    "$$ h \\int_{0}^{2} P_2(u) du  = h f(x_0)(u) \\Big|_0^2 + h (f(x_1)-f(x_0))\\left( \\frac{u^2}{2} \\right) \\Big|_0^2\n",
    "+ \\frac{h}{2}(f(x_ 2)-2f(x_1)+f(x_ 0)) \\left(\\frac{u^3}{3}-\\frac{u^2}{2} \\right) \\Big|_0^2 =$$\n",
    "\n",
    "$$ = 2hf(x_0)+2hf(x_1)-2hf(x_0)+\\frac{h}{3} ( f(x_2)-2f(x_1)+f(x_0)) = $$\n",
    "\n",
    "$$ \\frac{h}{3}[f(x_0)+4f(x_1)+f(x_2)]$$\n",
    "\n",
    "Assim, temos \n",
    "\n",
    "$$ \\int_{x_0}^{x_n} f(x) dx \\approx \\frac{h}{3}[f(x_0)+4f(x_1)+f(x_2)]$$\n",
    "\n",
    "conhecida como **Regra 1/3 de Simpson**.\n",
    "\n",
    "\n",
    "Graficamente, tem-se\n",
    "![Simpson13.jpg](https://github.com/tiagoburiol/NUMETHODS/raw/master/7_INTEGRACAO_NUMERICA/imagens/Simpson13.jpg)\n",
    "\n",
    "### Erro na regra 1/3 de Simpson\n",
    "\n",
    "O erro na regra dos trapézios será dado por\n",
    "\n",
    "$$E_2 = \\frac{-h^5}{90}f^{(4)}(\\xi)$$\n",
    "\n",
    "com $x_0 \\leq \\xi \\leq x_1$.\n",
    "\n",
    "Um **limitante superior** para o erro será dado por \n",
    "\n",
    "$$ |E_2| \\leq \\frac{h^5}{90} max.\\{|f^{(4)}(x)|, x_0 \\leq \\xi \\leq x_2 \\}$$"
   ]
  },
  {
   "cell_type": "markdown",
   "metadata": {},
   "source": [
    "### Exemplo 1\n",
    "Calcule o valor aproximado da integral $\\int_{0.5}^{1.5}cos(x)dx$ usando a regra 1/3 de Simpson. "
   ]
  },
  {
   "cell_type": "code",
   "execution_count": 5,
   "metadata": {
    "collapsed": false
   },
   "outputs": [
    {
     "name": "stdout",
     "output_type": "stream",
     "text": [
      "xi= [ 0.5  1.   1.5]\n",
      "f(xi)= [ 0.87758256  0.54030231  0.0707372 ]\n",
      "Resultado 1/3 Simpson:  0.518254831172\n"
     ]
    }
   ],
   "source": [
    "import numpy as np\n",
    "# Dados do enunciado\n",
    "x0 = 0.5; xn = 1.5 \n",
    "n = 2\n",
    "h = (xn-x0)/n\n",
    "\n",
    "f = lambda x: np.cos(x)\n",
    "\n",
    "# Criando n+1 pontos igualmente espacados \n",
    "X = np.linspace(x0, xn, n+1)\n",
    "print (\"xi=\",X)\n",
    "print (\"f(xi)=\",f(X))\n",
    "\n",
    "# Regra 1/3 de Simpson \n",
    "Is = (h/3)*(f(X[0]) + 4*f(X[1]) + f(X[2]))\n",
    "print (\"Resultado 1/3 Simpson: \", Is)"
   ]
  },
  {
   "cell_type": "markdown",
   "metadata": {},
   "source": [
    "### Erro na regra 1/3 de Simpson generalizada\n",
    "Consiste em subdividirmos o intervalo de integração $[a,b]$ em $n$ subintervalos de ampliture $h$, que que $n$ é um número par de subintervalos, com $x_0=a$ e $x_n=b$, então, aplicando a regra 1/3 de Simpson a cada 2 subintervalos consecutivos, obtemos\n",
    "\n",
    "$$ \\int_{x_0}^{x_n} f(x) dx \\approx \\frac{h}{3} [f(x_0)+4f(x_1)+f(x_2)] + \\frac{h}{3} [f(x_2)+4f(x_3)+f(x_4)] + ... + \\frac{h}{3} [f(x_{n-2})+4f(x_{n-1})+f(x_n)]=$$\n",
    "\n",
    "$$ = \\frac{h}{3} [f(x_0)+ 4f(x_1) + 2f(x_2)+ 4f(x_3)+...+2f(x_{n-2})+4f(x_{n-1})+f(x_n)] = $$\n",
    "\n",
    "$$ = \\frac{h}{3} \\{f(x_0)+ 4[f(x_1) + f(x_3)+...+f(x_{n-1})]+ 2[f(x_2) + f(x_4)+...+f(x_{n-2})] + f(x_n)\\}  $$\n",
    "\n",
    "Graficamente, tem-se\n",
    "\n",
    "![Simpson13gen.jpg](https://github.com/tiagoburiol/NUMETHODS/raw/master/7_INTEGRACAO_NUMERICA/imagens/Simpson13gen.jpg)\n"
   ]
  },
  {
   "cell_type": "code",
   "execution_count": null,
   "metadata": {
    "collapsed": true
   },
   "outputs": [],
   "source": [
    "Gra"
   ]
  }
 ],
 "metadata": {
  "kernelspec": {
   "display_name": "Python 3",
   "language": "python",
   "name": "python3"
  },
  "language_info": {
   "codemirror_mode": {
    "name": "ipython",
    "version": 3
   },
   "file_extension": ".py",
   "mimetype": "text/x-python",
   "name": "python",
   "nbconvert_exporter": "python",
   "pygments_lexer": "ipython3",
   "version": "3.5.1"
  }
 },
 "nbformat": 4,
 "nbformat_minor": 0
}

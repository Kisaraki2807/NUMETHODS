{
 "cells": [
  {
   "cell_type": "markdown",
   "metadata": {},
   "source": [
    "# 7.1 Introdução e conceitos fundamentais \n",
    "A integração numérica é útil em situações onde não se conhece a expressão analítica da função a ser integrada ou quando a função primitiva é difícil de se obter ou não existe. Uma forma de se calcular uma aproximação numérica para uma integral é por meio da integração do polinômio interpolador. Esse processo é conhecido como quadratura de Newton-Cotes e é desenvolvido por meio das fórmulas conhecidas como *Regra dos Trapézios*, *Regra 1/3 de Simpson* e *Regra 3/8 de Simpson*.\n",
    "\n",
    "Considere uma função $f(x)$ contínua no intervalo [$a,b$]. Então, sabemos que\n",
    "\n",
    "$$I=\\int_a^b f(x)dx = F(b) - F(a)$$\n",
    "\n",
    "em que a função $F(x)$ é chamada função primitiva, tal que $F'(x) = f(x)$.\n",
    "\n",
    "Graficamente, considerando a função $f(x) \\geq 0$, para todo $x \\in [a,b]$ podemos interpretar a intergral $I=\\int_a^b f(x)dx$ como a área entre a curva de $f$ e o eixo das abcissas:\n",
    "\n",
    "![integral_area.jpg](https://github.com/tiagoburiol/NUMETHODS/raw/master/7_INTEGRACAO_NUMERICA/imagens/integral_area.jpg)\n",
    "\n",
    "Os métodos numéricos para cálculo de integrais definidas consistem em aproximar a função $f(x)$ pelo polinômio interpolador $P(x)$ e integrar o polinômio. Assim, temos:\n",
    "\n",
    "$$ \\int_{x_0}^{x_n} f(x) dx \\approx \\int_{x_0}^{x_n} P(x) dx $$\n"
   ]
  },
  {
   "cell_type": "code",
   "execution_count": null,
   "metadata": {
    "collapsed": true
   },
   "outputs": [],
   "source": []
  }
 ],
 "metadata": {
  "kernelspec": {
   "display_name": "Python 3",
   "language": "python",
   "name": "python3"
  },
  "language_info": {
   "codemirror_mode": {
    "name": "ipython",
    "version": 3
   },
   "file_extension": ".py",
   "mimetype": "text/x-python",
   "name": "python",
   "nbconvert_exporter": "python",
   "pygments_lexer": "ipython3",
   "version": "3.5.1"
  }
 },
 "nbformat": 4,
 "nbformat_minor": 0
}

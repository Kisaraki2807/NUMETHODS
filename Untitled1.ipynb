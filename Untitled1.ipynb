{
 "cells": [
  {
   "cell_type": "markdown",
   "metadata": {},
   "source": [
    "# Equações Polinomiais\n",
    "\n",
    "## Introdução\n",
    "\n",
    "Estamos interessados, agora, em resolver equações do tipo \n",
    "\n",
    "$$ P(x) = a_0x^n + a_1x^{n-1} + a_2x^{n-2} + ... + a_{n-1}x + a_n = 0$$\n",
    "\n",
    "com $a_0 \\neq 0$, ou seja, queremos resolver esquações polinomiais.\n",
    "\n",
    "Equações polinomiais podem ser resolvidas pelos métodos já vistos (Método da Bisseção, Ponto Fixo, Newton, etc), no entanto, alguns teoremas e resultados da Álgebra nos fornecem recursos adicionais para localizar e determinar as raízes de polinômios. Dentre estes resultados, destacam-se:\n",
    "\n",
    "- Seja $P(x)$ um polinômio de grau $n \\geq 1$, então, a eq. $P(x)=0$ possui exatamente $n$ raízes (reais, complexas ou de multiplicidade);\n",
    "\n",
    "\n",
    "- Seja $P(x)$ um polinômio de grau $n \\geq 1$, então, para qualquer $\\alpha \\in R$ existe um único polinômio $Q(x)$, de grau $n-1$ tal que $P(x)=(x-\\alpha)Q(x)+P(\\alpha)$ (Teorema do Resto);\n",
    "\n",
    "\n",
    "- Seja um polinômio $P(x)$ de grau $n \\geq 2$, se $P(z)=0$, com $z=a+bi$, então, $P(\\overline{z})=0$, com  $\\overline{z}=a-bi$.\n",
    "\n"
   ]
  },
  {
   "cell_type": "code",
   "execution_count": 15,
   "metadata": {
    "collapsed": false
   },
   "outputs": [
    {
     "data": {
      "image/png": "[encoded data removed]",
      "text/plain": [
       "<matplotlib.figure.Figure at 0x7f3e728cf240>"
      ]
     },
     "metadata": {},
     "output_type": "display_data"
    }
   ],
   "source": [
    "% matplotlib inline\n",
    "from matplotlib.patches import Circle\n",
    "import matplotlib.pyplot as plt\n",
    "\n",
    "\n",
    "c = plt.Circle((0,0), radius= 5)\n",
    "\n",
    "ax.add_patch(c)\n",
    "plt.axis('scaled')\n",
    "plt.show()"
   ]
  },
  {
   "cell_type": "code",
   "execution_count": null,
   "metadata": {
    "collapsed": true
   },
   "outputs": [],
   "source": []
  }
 ],
 "metadata": {
  "kernelspec": {
   "display_name": "Python 3",
   "language": "python",
   "name": "python3"
  },
  "language_info": {
   "codemirror_mode": {
    "name": "ipython",
    "version": 3
   },
   "file_extension": ".py",
   "mimetype": "text/x-python",
   "name": "python",
   "nbconvert_exporter": "python",
   "pygments_lexer": "ipython3",
   "version": "3.5.1"
  }
 },
 "nbformat": 4,
 "nbformat_minor": 0
}

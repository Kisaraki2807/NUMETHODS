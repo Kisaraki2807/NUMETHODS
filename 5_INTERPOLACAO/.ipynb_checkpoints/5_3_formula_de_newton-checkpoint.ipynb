{
 "cells": [
  {
   "cell_type": "markdown",
   "metadata": {},
   "source": [
    "# 5.3. Fórmula de Newton\n",
    "\n",
    "\n",
    "\n",
    "Seja $f(x)$ definida em $x_0, x_1,...,x_n$, (n+1) pontos distintos de um intervalo $[a,b]$ e $y_i=f(x_i)$, $i=0,1,...,n$. O polinômio interpolador de Newton é dado por \n",
    "\n",
    "$$ P(x) = f[x_0] + (x-x_0)f[x_0,x_1] + (x-x_0)(x-x_1)f[x_0,x_1,x_2]+...+(x-x_0)(x-x_1)...(x-x_{n-1})f[x_0,...,x_n]$$\n",
    "\n",
    "onde $f[x_0]$, $f[x_0,x_1]$,...,$f[x_0,...,x_n]$ são as **diferenças divididas**, obtidas como é mostrado a seguir.\n",
    "\n",
    "\n",
    "**Diferença dividida de ordem 0:**\n",
    "$$f[x_i]=f(x_i), i=0,1,...,n$$\n",
    "\n",
    "**Diferença dividida de ordem 1:**\n",
    "$$f[x_i, x_{i+1}]=\\frac{f[x_{i+1}]-f[x_{i}]}{x_{i+1}-x_i}, i=0,1,...,n-1$$\n",
    "\n",
    "**Diferença dividida de ordem 2:**\n",
    "$$f[x_i, x_{i+1}, x_{i+2}]=\\frac{f[x_{i+1}, x_{i+2}] - f[x_{i}, x_{i+2}]}   {x_{i+2} - x_i}, i=0,1,...,n-3$$\n",
    "\n",
    "$\\vdots$\n",
    "\n",
    "**Diferença dividida de ordem n:**\n",
    "$$f[x_0,...,x_n]=\\frac{f[x_1,...,x_n] - f[x_0, ...,x_{n-1}]}   {x_n - x_0} $$\n",
    "\n",
    "Para obter as diferenças divididas da fórmula de Newton, é conveniente condtruir uma tabela, como mostrada abaixo\n",
    "\n",
    "![Image of Yaktocat](https://github.com/tiagoburiol/NUMETHODS/raw/master/5.%20INTERPOLACAO/imagens/tabela_diferecas_divididas.png)\n",
    "\n",
    "\n",
    "\n"
   ]
  },
  {
   "cell_type": "code",
   "execution_count": 5,
   "metadata": {
    "collapsed": false
   },
   "outputs": [
    {
     "name": "stdout",
     "output_type": "stream",
     "text": [
      "[ 1.          2.12814681  3.55975281]\n",
      "[2.2562936186086624, 2.8632120079252203, 2.2562936186086624, 2.8632120079252203]\n",
      "[0.60691838931655795, 0.60691838931655795]\n",
      "2.66437410753\n"
     ]
    }
   ],
   "source": [
    "% matplotlib inline\n",
    "import matplotlib.pyplot as plt\n",
    "import numpy as np\n",
    "\n",
    "# Funcao a ser interpolada\n",
    "f = lambda X:np.exp(X)+np.sin(X)\n",
    "\n",
    "# Dados\n",
    "X  = np.array([0., 0.5, 1.0])\n",
    "Y  = f(X)    \n",
    "\n",
    "# Inserindo na lista de diferencas divididas a lista de dif. div. de ordem 0 \n",
    "dd.append(Y) \n",
    "# ...imprimindo para conferir     \n",
    "print (dd[0])\n",
    "\n",
    "# Gerando a tabela de diferecas divididas a partir da ordem 1 em diante\n",
    "for ordem in range(1, len(X), 1):\n",
    "    dd.append([])   # Adiciona uma lista vazia para armazenar as dds de ordem 1\n",
    "    \n",
    "    # Para cada ordem, calcula a lista de valores resultantes\n",
    "    for k in range(0, len(X)-ordem, 1): \n",
    "        #print (ordem, k)\n",
    "        #print (dd[ordem-1][k+1],dd[ordem-1][k],x[k+ordem], x[k]) \n",
    "        valor = (dd[ordem-1][k+1]-dd[ordem-1][k])/(X[k+ordem]-X[k])    \n",
    "        #print (valor)  \n",
    "        dd[ordem].append(valor)\n",
    "    print (dd[ordem])\n",
    "\n",
    "\n",
    "def produtorio(x,n):\n",
    "    prod = 1.\n",
    "    for i in range(n):\n",
    "        prod = prod * (x-X[i])\n",
    "    return prod\n",
    "\n",
    "\n",
    "def calculaP(x):\n",
    "    soma = dd[0][0]\n",
    "    for i in range(1,len(X)):\n",
    "        soma = soma + produtorio(x,i)*dd[i][0]\n",
    "    return soma\n",
    "\n",
    "print (calculaP(0.7))\n",
    " "
   ]
  },
  {
   "cell_type": "markdown",
   "metadata": {},
   "source": [
    "Embora o método de Lagrange possa parecer mais simples, a sua implementação computacional não é tão eficiente quanto o método de Newton. Considere, por exemplo, um conjunto de quatro pontos $(n = 3)$ a serem interpolados. Então, o polinômio de Newton pode ser escrito como\n",
    "\n",
    "$$ P(x) = f[x_0] + (x-x_0) \\left\\{\n",
    "                   f[x_0,x_1] + (x-x_1) \\left[\n",
    "                   f[x_0,x_1,x_2]) + (x-x_2) f[x_0,x_1,x_2, x_3] \\right] \\right\\} $$"
   ]
  },
  {
   "cell_type": "code",
   "execution_count": null,
   "metadata": {
    "collapsed": true
   },
   "outputs": [],
   "source": []
  },
  {
   "cell_type": "code",
   "execution_count": null,
   "metadata": {
    "collapsed": true
   },
   "outputs": [],
   "source": []
  }
 ],
 "metadata": {
  "anaconda-cloud": {},
  "kernelspec": {
   "display_name": "Python 3",
   "language": "python",
   "name": "python3"
  },
  "language_info": {
   "codemirror_mode": {
    "name": "ipython",
    "version": 3
   },
   "file_extension": ".py",
   "mimetype": "text/x-python",
   "name": "python",
   "nbconvert_exporter": "python",
   "pygments_lexer": "ipython3",
   "version": "3.5.1"
  }
 },
 "nbformat": 4,
 "nbformat_minor": 0
}

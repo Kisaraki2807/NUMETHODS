{
 "cells": [
  {
   "cell_type": "markdown",
   "metadata": {},
   "source": [
    "# Diferenças Finitas para Equações Hiperbólicas de Primeira Ordem\n"
   ]
  },
  {
   "cell_type": "code",
   "execution_count": 14,
   "metadata": {
    "collapsed": false
   },
   "outputs": [
    {
     "name": "stdout",
     "output_type": "stream",
     "text": [
      "[ 1.   1.   1.   1.   1.   0.9]\n",
      "[ 1.     1.     1.     1.     0.975  0.89 ]\n",
      "[ 1.         1.         1.         0.99375    0.9584375  0.88025  ]\n",
      "[ 1.          1.          0.9984375   0.98609375  0.94580469  0.87136875]\n",
      "[ 1.          0.99960938  0.99564453  0.97840918  0.93534683  0.86334332]\n"
     ]
    }
   ],
   "source": [
    "import numpy as np\n",
    "u = np.zeros(6)\n",
    "u[0]=1.\n",
    "n = 5\n",
    "u_ant = np.ones(n+1)\n",
    "print (u_ant)\n",
    "\n",
    "\n",
    "\n",
    "\n",
    "for i in range(5):\n",
    "    for j in range(1,n,1):\n",
    "        u[j] = 0.5*u_ant[j]+0.25*(u_ant[j+1]+u_ant[j-1])\n",
    "    u[n] = 0.5*u_ant[n-1]+0.25*(u_ant[n-2]-0.4*u_ant[n-1]+u_ant[n-2])\n",
    "    u_ant = u\n",
    "    print (u)\n",
    "    \n",
    "\n",
    "\n"
   ]
  },
  {
   "cell_type": "code",
   "execution_count": null,
   "metadata": {
    "collapsed": true
   },
   "outputs": [],
   "source": []
  }
 ],
 "metadata": {
  "kernelspec": {
   "display_name": "Python 3",
   "language": "python",
   "name": "python3"
  },
  "language_info": {
   "codemirror_mode": {
    "name": "ipython",
    "version": 3
   },
   "file_extension": ".py",
   "mimetype": "text/x-python",
   "name": "python",
   "nbconvert_exporter": "python",
   "pygments_lexer": "ipython3",
   "version": "3.5.1"
  }
 },
 "nbformat": 4,
 "nbformat_minor": 0
}

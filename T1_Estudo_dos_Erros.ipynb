{
 "cells": [
  {
   "cell_type": "markdown",
   "metadata": {},
   "source": [
    "# Trabalho 1"
   ]
  },
  {
   "cell_type": "markdown",
   "metadata": {},
   "source": [
    "### Questão 1\n",
    "Pesquise e responda: O que é o 'Épsilon da Máquina'? Apresente um programa em python para obter o épsilon do computador que você usa. Qual o valor obtido com seu programa?  "
   ]
  },
  {
   "cell_type": "markdown",
   "metadata": {},
   "source": [
    "**Resolução**"
   ]
  },
  {
   "cell_type": "code",
   "execution_count": 1,
   "metadata": {
    "collapsed": false
   },
   "outputs": [
    {
     "name": "stdout",
     "output_type": "stream",
     "text": [
      "Epsilon: 2.220446049250313e-16\n"
     ]
    }
   ],
   "source": [
    "eps=1\n",
    "\n",
    "while (eps+1) > 1:\n",
    "    eps = eps/2\n",
    "\n",
    "print (\"Epsilon:\", eps*2)"
   ]
  },
  {
   "cell_type": "markdown",
   "metadata": {},
   "source": [
    "**Comentário** <br>\n",
    "O épsilon da máquina é o menor número que somado a 1 produza resulta dem um número diferente de 1. Representa a exatidão relativa da aritmética de ponto flutuante do computador em uso. Em um PC 64 bits, o épslon resultou no valor 2.220446049250313e-16."
   ]
  },
  {
   "cell_type": "markdown",
   "metadata": {},
   "source": [
    "### Questão 2\n",
    "\n",
    "Considere as expressões \n",
    "$ \\frac{e^{1/x}}{1+e^{1/x}} $ e   $\\frac{1}{e^{-1/x}+1}$ . Verifique que, para x>0, são funções idênticas, então, use um programa em Python para testar o valor de cada uma para alguns valores de x entre 0.1 e 0.001. Qual dessas expressões é mais adequada quando x é um número pequeno? Explique. "
   ]
  },
  {
   "cell_type": "markdown",
   "metadata": {},
   "source": [
    "**Resolução**"
   ]
  },
  {
   "cell_type": "code",
   "execution_count": 2,
   "metadata": {
    "collapsed": false
   },
   "outputs": [
    {
     "name": "stdout",
     "output_type": "stream",
     "text": [
      "f1(0.1) = 0.9999546021312976\n",
      "f1(0.05) = 0.9999999979388464\n",
      "f1(0.01) = 1.0\n",
      "f1(0.005) = 1.0\n",
      "f1(0.002) = 1.0\n",
      "f1(0.015) = 1.0\n"
     ]
    },
    {
     "ename": "OverflowError",
     "evalue": "math range error",
     "output_type": "error",
     "traceback": [
      "\u001b[1;31m---------------------------------------------------------------------------\u001b[0m",
      "\u001b[1;31mOverflowError\u001b[0m                             Traceback (most recent call last)",
      "\u001b[1;32m<ipython-input-2-60ccab6800fe>\u001b[0m in \u001b[0;36m<module>\u001b[1;34m()\u001b[0m\n\u001b[0;32m      7\u001b[0m \u001b[0mprint\u001b[0m \u001b[1;33m(\u001b[0m\u001b[1;34m\"f1(0.002) =\"\u001b[0m\u001b[1;33m,\u001b[0m \u001b[0mf1\u001b[0m\u001b[1;33m(\u001b[0m\u001b[1;36m0.002\u001b[0m\u001b[1;33m)\u001b[0m\u001b[1;33m)\u001b[0m\u001b[1;33m\u001b[0m\u001b[0m\n\u001b[0;32m      8\u001b[0m \u001b[0mprint\u001b[0m \u001b[1;33m(\u001b[0m\u001b[1;34m\"f1(0.015) =\"\u001b[0m\u001b[1;33m,\u001b[0m \u001b[0mf1\u001b[0m\u001b[1;33m(\u001b[0m\u001b[1;36m0.0015\u001b[0m\u001b[1;33m)\u001b[0m\u001b[1;33m)\u001b[0m\u001b[1;33m\u001b[0m\u001b[0m\n\u001b[1;32m----> 9\u001b[1;33m \u001b[0mprint\u001b[0m \u001b[1;33m(\u001b[0m\u001b[1;34m\"f1(0.015) =\"\u001b[0m\u001b[1;33m,\u001b[0m \u001b[0mf1\u001b[0m\u001b[1;33m(\u001b[0m\u001b[1;36m0.0014\u001b[0m\u001b[1;33m)\u001b[0m\u001b[1;33m)\u001b[0m\u001b[1;33m\u001b[0m\u001b[0m\n\u001b[0m\u001b[0;32m     10\u001b[0m \u001b[0mprint\u001b[0m \u001b[1;33m(\u001b[0m\u001b[1;34m\"f1(0.001) =\"\u001b[0m\u001b[1;33m,\u001b[0m \u001b[0mf1\u001b[0m\u001b[1;33m(\u001b[0m\u001b[1;36m0.001\u001b[0m\u001b[1;33m)\u001b[0m\u001b[1;33m)\u001b[0m\u001b[1;33m\u001b[0m\u001b[0m\n",
      "\u001b[1;32m<ipython-input-2-60ccab6800fe>\u001b[0m in \u001b[0;36mf1\u001b[1;34m(x)\u001b[0m\n\u001b[0;32m      1\u001b[0m \u001b[1;32mfrom\u001b[0m \u001b[0mmath\u001b[0m \u001b[1;32mimport\u001b[0m \u001b[0mexp\u001b[0m\u001b[1;33m\u001b[0m\u001b[0m\n\u001b[1;32m----> 2\u001b[1;33m \u001b[1;32mdef\u001b[0m \u001b[0mf1\u001b[0m\u001b[1;33m(\u001b[0m\u001b[0mx\u001b[0m\u001b[1;33m)\u001b[0m\u001b[1;33m:\u001b[0m \u001b[1;32mreturn\u001b[0m \u001b[0mexp\u001b[0m\u001b[1;33m(\u001b[0m\u001b[1;36m1.\u001b[0m\u001b[1;33m/\u001b[0m\u001b[0mx\u001b[0m\u001b[1;33m)\u001b[0m\u001b[1;33m/\u001b[0m\u001b[1;33m(\u001b[0m\u001b[1;36m1\u001b[0m\u001b[1;33m+\u001b[0m\u001b[0mexp\u001b[0m\u001b[1;33m(\u001b[0m\u001b[1;36m1.\u001b[0m\u001b[1;33m/\u001b[0m\u001b[0mx\u001b[0m\u001b[1;33m)\u001b[0m\u001b[1;33m)\u001b[0m\u001b[1;33m\u001b[0m\u001b[0m\n\u001b[0m\u001b[0;32m      3\u001b[0m \u001b[0mprint\u001b[0m \u001b[1;33m(\u001b[0m\u001b[1;34m\"f1(0.1) =\"\u001b[0m\u001b[1;33m,\u001b[0m \u001b[0mf1\u001b[0m\u001b[1;33m(\u001b[0m\u001b[1;36m0.1\u001b[0m\u001b[1;33m)\u001b[0m\u001b[1;33m)\u001b[0m\u001b[1;33m\u001b[0m\u001b[0m\n\u001b[0;32m      4\u001b[0m \u001b[0mprint\u001b[0m \u001b[1;33m(\u001b[0m\u001b[1;34m\"f1(0.05) =\"\u001b[0m\u001b[1;33m,\u001b[0m \u001b[0mf1\u001b[0m\u001b[1;33m(\u001b[0m\u001b[1;36m0.05\u001b[0m\u001b[1;33m)\u001b[0m\u001b[1;33m)\u001b[0m\u001b[1;33m\u001b[0m\u001b[0m\n\u001b[0;32m      5\u001b[0m \u001b[0mprint\u001b[0m \u001b[1;33m(\u001b[0m\u001b[1;34m\"f1(0.01) =\"\u001b[0m\u001b[1;33m,\u001b[0m \u001b[0mf1\u001b[0m\u001b[1;33m(\u001b[0m\u001b[1;36m0.01\u001b[0m\u001b[1;33m)\u001b[0m\u001b[1;33m)\u001b[0m\u001b[1;33m\u001b[0m\u001b[0m\n",
      "\u001b[1;31mOverflowError\u001b[0m: math range error"
     ]
    }
   ],
   "source": [
    "from math import exp\n",
    "def f1(x): return exp(1./x)/(1+exp(1./x))\n",
    "print (\"f1(0.1) =\", f1(0.1))\n",
    "print (\"f1(0.05) =\", f1(0.05))\n",
    "print (\"f1(0.01) =\", f1(0.01))\n",
    "print (\"f1(0.005) =\", f1(0.005))\n",
    "print (\"f1(0.002) =\", f1(0.002))\n",
    "print (\"f1(0.015) =\", f1(0.0015))\n",
    "print (\"f1(0.015) =\", f1(0.0014))\n",
    "print (\"f1(0.001) =\", f1(0.001))"
   ]
  },
  {
   "cell_type": "code",
   "execution_count": 4,
   "metadata": {
    "collapsed": false
   },
   "outputs": [
    {
     "name": "stdout",
     "output_type": "stream",
     "text": [
      "salvador\n",
      "f1(0.1) = 0.9999546021312976\n",
      "f1(0.05) = 0.9999999979388463\n",
      "f1(0.01) = 1.0\n",
      "f1(0.005) = 1.0\n",
      "f1(0.002) = 1.0\n",
      "f1(0.015) = 1.0\n",
      "f1(0.014) = 1.0\n",
      "f1(0.001) = 1.0\n"
     ]
    }
   ],
   "source": [
    "from math import exp\n",
    "def f1(x): return 1./(exp(-1./x)+1)\n",
    "print (\"f1(0.1) =\", f1(0.1))\n",
    "print (\"f1(0.05) =\", f1(0.05))\n",
    "print (\"f1(0.01) =\", f1(0.01))\n",
    "print (\"f1(0.005) =\", f1(0.005))\n",
    "print (\"f1(0.002) =\", f1(0.002))\n",
    "print (\"f1(0.015) =\", f1(0.0015))\n",
    "print (\"f1(0.014) =\", f1(0.0014))\n",
    "print (\"f1(0.001) =\", f1(0.001))"
   ]
  },
  {
   "cell_type": "markdown",
   "metadata": {},
   "source": [
    "**Comentário** <br>\n",
    "Embora as duas expressões sejam idênticas, observando a saída dos códigos acima, percebe-se que para valores menores do que 0.0015 a primeira expressão resulta em um erro de _*Overflow*_ enquanto que a segunda expressão não ocorre o erro. Assim, podemos dizer que a segunda expressão é mais adequada para valores de x pequenos."
   ]
  },
  {
   "cell_type": "markdown",
   "metadata": {},
   "source": [
    "### Questão 3\n",
    "O número $e$ pode ser definido pela série $e = \\sum_{n=0}^{\\infty}\\left(\\frac{1}{n!}\\right)$. Apresente um programa em Python para obter uma aproximação para $e$ com erro relativo menor que 0.0001 ."
   ]
  },
  {
   "cell_type": "markdown",
   "metadata": {},
   "source": [
    "**Resolução**"
   ]
  },
  {
   "cell_type": "code",
   "execution_count": 7,
   "metadata": {
    "collapsed": false
   },
   "outputs": [
    {
     "name": "stdout",
     "output_type": "stream",
     "text": [
      "n = 0.0 , soma = 1.0 erro= 0.6321205588285577\n",
      "n = 1.0 , soma = 2.0 erro= 0.26424111765711533\n",
      "n = 2.0 , soma = 2.5 erro= 0.08030139707139415\n",
      "n = 3.0 , soma = 2.6666666666666665 erro= 0.018988156876153812\n",
      "n = 4.0 , soma = 2.708333333333333 erro= 0.003659846827343768\n",
      "n = 5.0 , soma = 2.7166666666666663 erro= 0.0005941848175817597\n",
      "n = 6.0 , soma = 2.7180555555555554 erro= 8.324114928800986e-05\n"
     ]
    }
   ],
   "source": [
    "from math import factorial, e\n",
    "erro = 1.0\n",
    "soma = 0.0\n",
    "n = 0.0\n",
    "while erro>0.0001:\n",
    "    soma = soma + 1.0/factorial(n)\n",
    "    erro = abs(e - soma)/abs(e)\n",
    "    print (\"n =\",n,\",\",\"soma =\",soma, 'erro=', erro)\n",
    "    n = n + 1"
   ]
  },
  {
   "cell_type": "markdown",
   "metadata": {},
   "source": [
    "**Comentário** <br>\n",
    "Com seis termos, a série resulta em um valor aproximado de $e$ com erro relativo menor que 0.0001."
   ]
  },
  {
   "cell_type": "markdown",
   "metadata": {},
   "source": [
    "### Questão 4\n",
    "A fórmula de Leibniz para o número $\\pi$ é dada pela série infinita $\\frac{\\pi}{4} = \\sum_{n=0}^{\\infty}\\frac{(-1)^n}{2n+1}$. Apresente um programa em Python para obter uma aproximações para $\\pi$ usando 50 termos da série."
   ]
  },
  {
   "cell_type": "markdown",
   "metadata": {},
   "source": [
    "**Resolução**"
   ]
  },
  {
   "cell_type": "code",
   "execution_count": 8,
   "metadata": {
    "collapsed": false
   },
   "outputs": [
    {
     "name": "stdout",
     "output_type": "stream",
     "text": [
      "pi = 3.121594652591011\n"
     ]
    }
   ],
   "source": [
    "soma = 0.0\n",
    "for n in range(50):\n",
    "    soma = soma + ((-1.0)**n)/(2*n + 1)\n",
    "print (\"pi =\", 4*soma)"
   ]
  },
  {
   "cell_type": "markdown",
   "metadata": {},
   "source": [
    "**Comentário** <br>\n",
    "Mesmo com 50 termos, a série ainda apresenta o valor aproximado com erro na segunda casa decimal."
   ]
  },
  {
   "cell_type": "markdown",
   "metadata": {},
   "source": [
    "### Questão 5\n",
    "Apresente um programa em Python para obter aproximações para o valor da função $f(x) = ln(1 + x)$ usando expansões em séries de Taylor em torno do ponto $x = 0$. Descubra quantos termos da série precisam ser retidos para calcular $ln(0.8)$ com erro absoluto inferior a 0.0001."
   ]
  },
  {
   "cell_type": "markdown",
   "metadata": {},
   "source": [
    "**Resolução**"
   ]
  },
  {
   "cell_type": "markdown",
   "metadata": {},
   "source": [
    "A Série de Taylor em torno de x=0, também chamada de Série de McLaurin, para a função $ln(1+x)$ é dada por $\\sum_{n=0}^{\\infty}\\frac{(-1)^nx^{n+1}}{n+1}$"
   ]
  },
  {
   "cell_type": "code",
   "execution_count": 5,
   "metadata": {
    "collapsed": false
   },
   "outputs": [
    {
     "name": "stdout",
     "output_type": "stream",
     "text": [
      "Resultado: -0.2 , Erro: 0.1037159764550898\n",
      "Resultado: -0.22000000000000003 , Erro: 0.014087574100598712\n",
      "Resultado: -0.2226666666666667 , Erro: 0.002137120453333192\n",
      "Resultado: -0.22306666666666672 , Erro: 0.00034455240624332016\n",
      "Resultado: -0.22313066666666673 , Erro: 5.774151870891082e-05\n"
     ]
    }
   ],
   "source": [
    "from math import log\n",
    "soma = 0.0\n",
    "erro = 10.0\n",
    "n = 0.0\n",
    "\n",
    "while erro>0.0001:\n",
    "    soma = soma + (-1.0)**n * (-0.2)**(n+1)/(n + 1)\n",
    "    erro = abs(log(0.8)-soma)/abs(log(0.8))\n",
    "    n = n + 1    \n",
    "    print (\"Resultado:\", soma, \", Erro:\", erro) "
   ]
  },
  {
   "cell_type": "markdown",
   "metadata": {},
   "source": [
    "**Comentário** <br>\n",
    "Pelo resultado do código acima, os 5 primeiros termos da série são suficientes para a aproximar $ln(0.8)$, ou seja, $ln(1+x)$ com $x = -0.2$, com erro menor que 0.0001. "
   ]
  }
 ],
 "metadata": {
  "kernelspec": {
   "display_name": "Python 3",
   "language": "python",
   "name": "python3"
  },
  "language_info": {
   "codemirror_mode": {
    "name": "ipython",
    "version": 3
   },
   "file_extension": ".py",
   "mimetype": "text/x-python",
   "name": "python",
   "nbconvert_exporter": "python",
   "pygments_lexer": "ipython3",
   "version": "3.5.1"
  }
 },
 "nbformat": 4,
 "nbformat_minor": 0
}

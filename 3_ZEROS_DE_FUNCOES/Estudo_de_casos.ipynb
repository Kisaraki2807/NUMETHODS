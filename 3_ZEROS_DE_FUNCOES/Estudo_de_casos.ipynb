{
 "cells": [
  {
   "cell_type": "markdown",
   "metadata": {},
   "source": [
    "## Lei dos gases ideais e não ideais (engenharia química)\n",
    "\n",
    "A lei dos gases ideais é dada por \n",
    "\n",
    "$$ pV = nRT $$\n",
    "\n",
    "Essa equação é mais apropriada para alguns gases do que outros. Além disso, é acurada apenas para um intervalo limitado de pressão e temperatura. \n",
    "\n",
    "Uma equação de estado alternativa, conhecida como _equação de wander Wall_ é dada por \n",
    "\n",
    "$$ \\left( p + \\frac{a}{v^2} \\right) (v-b) = RT$$\n",
    "\n",
    "onde $v = V/n $ é o volume molar, $a$ e $b$ são constantes empíricas que dependem do gás.\n",
    "\n",
    "Considere o problema de se fazer uma estimattiva acurada do volume $v$ do dióxido de carbono e do oxigênio, para diversas combinações de temperatura e pressão. Também deseja-se examidar o quão precisamente esses gases obedecem à lei dos gases ideais.\n",
    "\n",
    "São fornecidos os seguntes dados:\n",
    "\n",
    "$R = 0,082054 L \\,atm/(mol \\,K)$ \n",
    "\n",
    "Dióxido de carbono: $a=3,592$ e $b = 0,04267$\n",
    "\n",
    "Oxigênio: $ a= 1,360$ e $b = 0,03183$\n",
    "\n",
    "As pressões de interesse são 1, 10 e 100 atm , e  as temperaturas de 300, 500 e 700.\n",
    " \n",
    "### Solução\n",
    "\n",
    "Considerando a lei dos gases ideais tem-se\n",
    "\n"
   ]
  },
  {
   "cell_type": "code",
   "execution_count": 3,
   "metadata": {},
   "outputs": [
    {
     "name": "stdout",
     "output_type": "stream",
     "text": [
      "Para T= 300 e p= 1 o volume é v= 24.6162 L/mol\n",
      "Para T= 300 e p= 10 o volume é v= 2.46162 L/mol\n",
      "Para T= 300 e p= 100 o volume é v= 0.246162 L/mol\n",
      "Para T= 500 e p= 1 o volume é v= 41.027 L/mol\n",
      "Para T= 500 e p= 10 o volume é v= 4.1027000000000005 L/mol\n",
      "Para T= 500 e p= 100 o volume é v= 0.41027 L/mol\n",
      "Para T= 700 e p= 1 o volume é v= 57.4378 L/mol\n",
      "Para T= 700 e p= 10 o volume é v= 5.74378 L/mol\n",
      "Para T= 700 e p= 100 o volume é v= 0.574378 L/mol\n"
     ]
    }
   ],
   "source": [
    "press = [1, 10,100]\n",
    "temp = [300, 500,700] \n",
    "\n",
    "\n",
    "def calcula_vol(p,T):\n",
    "    v = 0.082054*float(T)/float(p)\n",
    "    print (\"Para T=\",T, \"e p=\",p, \"o volume é v=\",v,\"L/mol\")\n",
    "\n",
    "for T in temp:\n",
    "    for p in press:\n",
    "        calcula_vol(p, T)\n",
    "    "
   ]
  },
  {
   "cell_type": "markdown",
   "metadata": {},
   "source": [
    "Considerando a _equação de wander Wall_, tem-se, pelo método da bissecao"
   ]
  },
  {
   "cell_type": "code",
   "execution_count": 34,
   "metadata": {},
   "outputs": [
    {
     "name": "stdout",
     "output_type": "stream",
     "text": [
      "24.5\n",
      "24.75\n",
      "24.625\n",
      "24.5625\n",
      "24.53125\n",
      "24.515625\n",
      "24.5078125\n",
      "24.51171875\n",
      "24.513671875\n",
      "24.5126953125\n",
      "24.51220703125\n"
     ]
    }
   ],
   "source": [
    "# bisseção\n",
    "import math\n",
    "\n",
    "p = 1\n",
    "T = 300\n",
    "\n",
    "f = lambda v: (p + 3.592/v**2)*(v-0.04267)-0.082054*T     #dioxido\n",
    "#f = lambda v: (p + 1.360/v**2)*(v-0.03183)-0.082054*T    #oxigenio\n",
    "\n",
    "a = 24.\n",
    "b = 25.\n",
    "\n",
    "v_ant = 0.0\n",
    "err = 10.\n",
    "\n",
    "while err > 0.0001:\n",
    "    v = (a+b)/2.0\n",
    "    if f(v)*f(a) < 0:\n",
    "        b = v\n",
    "    else:\n",
    "        a = v\n",
    "        err = abs(v - v_ant)/abs(v)\n",
    "        v_ant = v\n",
    "    print ( v )\n"
   ]
  },
  {
   "cell_type": "markdown",
   "metadata": {},
   "source": [
    "Pelo método de Newton-Raphson"
   ]
  },
  {
   "cell_type": "code",
   "execution_count": 26,
   "metadata": {},
   "outputs": [
    {
     "name": "stdout",
     "output_type": "stream",
     "text": [
      "1 | x=24.517487897 | err=0.223616389\n",
      "2 | x=24.512588134 | err=0.000199888\n",
      "3 | x=24.512588128 | err=0.000000000\n"
     ]
    }
   ],
   "source": [
    "# -*- coding: utf-8 -*-\n",
    "import math\n",
    "\n",
    "p = 1\n",
    "T = 300\n",
    "\n",
    "a = 3.592\n",
    "b = 0.04267\n",
    "\n",
    "#a = 1.360\n",
    "#b = 0.03183\n",
    "\n",
    "f = lambda v: (p + a/v**2)*(v-b)-0.082054*T\n",
    "flinha = lambda v: p - a/v**2 + 2*a*b/v**3\n",
    "\n",
    "x = 30.0\n",
    "x_ant = x\n",
    "eps = 0.0001\n",
    "err = 10.0\n",
    "i = 0\n",
    "\n",
    "while err>eps:\n",
    "    x = x - f(x)/flinha(x)\n",
    "    err = abs(x-x_ant)/abs(x)\n",
    "    x_ant = x\n",
    "    i=i+1\n",
    "    print (i, \"| x=%.9f\"%x, \"| err=%.9f\"%err)\n",
    "    \n",
    "    \n"
   ]
  },
  {
   "cell_type": "markdown",
   "metadata": {},
   "source": [
    "Método da bissecao para todos os casos"
   ]
  },
  {
   "cell_type": "code",
   "execution_count": null,
   "metadata": {},
   "outputs": [],
   "source": [
    "# bisseção\n",
    "import math\n",
    "v=0.0\n",
    "x_ant = 0.0\n",
    "\n",
    "d = lambda v, p, T: (p + 3.592/v**2)*(v-0.04267)-0.082054*T\n",
    "o = lambda v, p, T: (p + 1.360/v**2)*(v-0.03183)-0.082054*T\n",
    "\n",
    "def bissecao(eps, a, b, p, T, f):\n",
    "    v_ant = 0.0\n",
    "    err = 10.\n",
    "    while err > eps:\n",
    "        v = (a+b)/2.0\n",
    "        if f(v,p,T)*f(a,p,T) < 0:\n",
    "            b = v\n",
    "        else:\n",
    "            a = v\n",
    "\n",
    "        err = abs(v - v_ant)/abs(v)\n",
    "        v_ant = v\n",
    "    return v\n",
    "\n",
    "\n",
    "print (\"Dióxido de Carbono\")\n",
    "for T in temp:\n",
    "    for p in press:\n",
    "        v = bissecao(0.00001, 0.01, 100, p, T, d)\n",
    "        print (\"Para T=\",T, \"e p=\",p, \"o volume é v=\",v,\"L/mol\") \n",
    "\n",
    "print (\"Oxigênio\")        \n",
    "for T in temp:\n",
    "    for p in press:\n",
    "        v = bissecao(0.00001, 0.01, 100, p, T, o)\n",
    "        print (\"Para T=\",T, \"e p=\",p, \"o volume é v=\",v,\"L/mol\") "
   ]
  },
  {
   "cell_type": "markdown",
   "metadata": {},
   "source": [
    "<img src=\"https://github.com/tiagoburiol/NUMETHODS/raw/master/3_ZEROS_DE_FUNCOES/images/tab01.PNG\" width=\"600\">"
   ]
  },
  {
   "cell_type": "code",
   "execution_count": null,
   "metadata": {},
   "outputs": [],
   "source": []
  }
 ],
 "metadata": {
  "kernelspec": {
   "display_name": "Python 3",
   "language": "python",
   "name": "python3"
  },
  "language_info": {
   "codemirror_mode": {
    "name": "ipython",
    "version": 3
   },
   "file_extension": ".py",
   "mimetype": "text/x-python",
   "name": "python",
   "nbconvert_exporter": "python",
   "pygments_lexer": "ipython3",
   "version": "3.6.4"
  }
 },
 "nbformat": 4,
 "nbformat_minor": 2
}

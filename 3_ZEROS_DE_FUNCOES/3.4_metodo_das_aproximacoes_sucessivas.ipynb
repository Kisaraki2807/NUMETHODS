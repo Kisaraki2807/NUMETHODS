{
 "cells": [
  {
   "cell_type": "markdown",
   "metadata": {},
   "source": [
    "## 3.4 Método das Aproximações Sucessivas\n",
    "\n",
    "Muitos problemas em ciências e engenharia envolvem a resolução de uma equação que pode ser colocada na forma $f(x)=0$. Em alguns casos a soluçãoo exata $\\overline{x}$ pode ser encontrada por processos analíticos, quando isso não for possível, uma solução aproximada pode ser obtida por métodos numéricos. \n",
    "\n",
    "Em geral, a solução numérica é obtida por meio de um processo iterativo que gera uma sequência de soluções aproximadas a partir de uma aproximação inicial $x_0$. Se os valores obtidos se aproximam cada vez mais da solução exata $\\overline{x}$, dizemos que a sequência está convergindo\n",
    "\n",
    "O Método das aproximações sucessivas, ou ponto fixo, consiste em reescrever a equação $f(x)=0 $ em uma equação equivalente $x = \\phi (x)$ em que $\\phi (x)$ é a chamada função de iteração. A raiz $\\overline{x}$ procurada é obtida por meio de uma sequência de de soluções aproximadas, geradas pelo processo iterativo dado por\n",
    "\n",
    "$$ x_{i+1} = \\phi(x_i) , \\,\\,\\,\\,\\, i = 0,1,2,...$$\n",
    "\n",
    "Existem muitas formas diferentes de se obter a função de iteração, como é mostrado nos exempols a seguir.\n",
    "\n",
    "### Exemplo 1\n",
    "Seja a equação $f(x) = x^2-7x=0$, então, algumas possíveis funções de iteração são\n",
    "\n",
    "- $ x_{i+1} = \\phi(x_i) = \\sqrt{7x_i}$\n",
    "- $ x_{i+1} = \\phi(x_i) = \\frac{x_i^2}{7}$\n",
    "- $ x_{i+1} = \\phi(x_i) = x^2 - 6 $\n",
    "\n",
    "### Exemplo 2\n",
    "Seja a equação $f(x) = x^3-x-5=0$, então, algumas possíveis funções de iteração são\n",
    "\n",
    "- $ x_{i+1} = \\phi(x_i) = x_{i}^3-5$\n",
    "- $ x_{i+1} = \\phi(x_i) = \\sqrt[3]{x+5}$\n",
    "- $ x_{i+1} = \\phi(x_i) = 5/(x^2-1) $\n",
    "\n",
    "De modo geral, sempre é possível obter uma função de iteração multiplicando uma função qualquer $\\theta(x)$ pela equação $f(x)=0$ e somando $x$ a ambos os lados obtendo-se $x_{i+1} = \\phi(x_i) = f(x)\\theta(x_i)+x$.\n",
    "\n",
    "O processo iterativo gera uma sequência de soluções aproximadas a partir de uma solução inicial (\"chute\" inicial) $x_0$, como é mostrado abaixo\n",
    "\n",
    "$$x_{1} = \\phi(x_0)$$\n",
    "\n",
    "$$x_{2} = \\phi(x_1)$$\n",
    "\n",
    "$$x_{3} = \\phi(x_2)$$\n",
    "\n",
    "$$\\vdots$$\n",
    "\n",
    "$$x_{n} = \\phi(x_{n-1})\\simeq \\overline{x}$$\n",
    "\n",
    "Geometricamente, interpretamos o processo iterativo como é mostrado nas figuras abaixo, para dois casos distintos. O ponto de intersecção entre o gráfico de $\\phi(x)$ e a reta $y=x$ é o ponto cuja abcissa é a raix procurada $\\overline{x}$.\n",
    "\n",
    "<img src=\"https://github.com/tiagoburiol/NUMETHODS/raw/master/3_ZEROS_DE_FUNCOES/images/3.4_ponto_fixo_convergente.PNG\" width=\"500\">\n",
    "\n",
    "\\noindent {\\bf Convergência}\\\\\n",
    "Seja $\\phi(x)$ uma função contínua e derivável em $I=[a,b]$ centrado em $\\overline{x}$, então, se $|\\phi'(x)|<1$ em $I$, a sequência ${x_k}$, $k=0,1,2,3,..$ querada por $x_{k+1}=\\phi(x_k)$ converge para a raiz $\\overline{x}$ procurada.\n",
    "\n",
    "No caso do processo iterativo gerar sequências divergentes, uma interpretação geométrica é mostrada na fig. \\ref{divergentes}. \n",
    "\n",
    "<img src=\"https://github.com/tiagoburiol/NUMETHODS/raw/master/3_ZEROS_DE_FUNCOES/images/3.4_ponto_fixo_divergente.PNG\" width=\"500\">\n"
   ]
  },
  {
   "cell_type": "markdown",
   "metadata": {},
   "source": [
    "### Exemplo\n",
    "Enontre uma raix para $f(x)=x-cosx$ com $\\epsilon = 0.01$."
   ]
  },
  {
   "cell_type": "code",
   "execution_count": 3,
   "metadata": {},
   "outputs": [
    {
     "data": {
      "image/png": "[encoded data removed]",
      "text/plain": [
       "<matplotlib.figure.Figure at 0x2c2dc89e9b0>"
      ]
     },
     "metadata": {},
     "output_type": "display_data"
    }
   ],
   "source": [
    "% matplotlib inline\n",
    "import numpy as np\n",
    "import matplotlib.pyplot as plt\n",
    "f1 = lambda x: x\n",
    "f2 = lambda x: np.cos(x)\n",
    "X = np.linspace(-5, 5, 31)\n",
    "plt.plot(X, f1(X), \"b-\", X, f2(X), \"r-\") \n",
    "plt.grid()\n",
    "plt.show()"
   ]
  },
  {
   "cell_type": "code",
   "execution_count": 1,
   "metadata": {},
   "outputs": [
    {
     "name": "stdout",
     "output_type": "stream",
     "text": [
      "1 | x=0.764842187 | err=0.084778518\n",
      "2 | x=0.721491640 | err=0.060084615\n",
      "3 | x=0.750821329 | err=0.039063474\n",
      "4 | x=0.731128773 | err=0.026934457\n",
      "5 | x=0.744421184 | err=0.017856035\n",
      "6 | x=0.735480200 | err=0.012156661\n",
      "7 | x=0.741508652 | err=0.008129981\n"
     ]
    }
   ],
   "source": [
    "from math import cos\n",
    "phi = lambda x: cos(x)\n",
    "x0 = 0.7\n",
    "eps = 0.01\n",
    "\n",
    "# Inicializando as variáveis\n",
    "err = 10.0\n",
    "x_ant = x0\n",
    "i = 0\n",
    "\n",
    "while err>eps:\n",
    "    x = phi(x_ant)\n",
    "    err = abs(x-x_ant)/abs(x)\n",
    "    x_ant = x\n",
    "    i=i+1\n",
    "    print (i, \"| x=%.9f\"%x, \"| err=%.9f\"%err)"
   ]
  },
  {
   "cell_type": "markdown",
   "metadata": {},
   "source": [
    "### Exemplo"
   ]
  },
  {
   "cell_type": "code",
   "execution_count": null,
   "metadata": {
    "collapsed": true
   },
   "outputs": [],
   "source": [
    "import math\n",
    "\n",
    "x = -1.5\n",
    "err = 10.0\n",
    "x_ant = x\n",
    "\n",
    "while err>0.0001:\n",
    "    \n",
    "    x = math.sin(x)+2*x+2\n",
    "    \n",
    "    err = abs(x-x_ant)/abs(x)\n",
    "    \n",
    "    x_ant = x\n",
    "    \n",
    "    print (\"| x=%.9f\"%x, \"| err=%.9f\"%err)"
   ]
  },
  {
   "cell_type": "code",
   "execution_count": null,
   "metadata": {
    "collapsed": true
   },
   "outputs": [],
   "source": []
  },
  {
   "cell_type": "code",
   "execution_count": null,
   "metadata": {
    "collapsed": true
   },
   "outputs": [],
   "source": []
  }
 ],
 "metadata": {
  "kernelspec": {
   "display_name": "Python 3",
   "language": "python",
   "name": "python3"
  },
  "language_info": {
   "codemirror_mode": {
    "name": "ipython",
    "version": 3
   },
   "file_extension": ".py",
   "mimetype": "text/x-python",
   "name": "python",
   "nbconvert_exporter": "python",
   "pygments_lexer": "ipython3",
   "version": "3.6.4"
  }
 },
 "nbformat": 4,
 "nbformat_minor": 2
}

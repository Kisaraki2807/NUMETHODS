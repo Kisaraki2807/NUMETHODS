{
 "cells": [
  {
   "cell_type": "markdown",
   "metadata": {},
   "source": [
    "## 3.4 Método das Aproximações Sucessivas\n",
    "\n",
    "Muitos problemas em ciências e engenharia envolvem a resolução de uma equação que pode ser colocada na forma $f(x)=0$. Em alguns casos a soluçãoo exata $\\overline{x}$ pode ser encontrada por processos analíticos, quando isso não for possível, uma solução aproximada pode ser obtida por métodos numéricos. \n",
    "\n",
    "Em geral, a solução numérica é obtida por meio de um processo iterativo que gera uma sequência de soluções aproximadas a partir de uma aproximação inicial $x_0$. Se os valores obtidos se aproximam cada vez mais da solução exata $\\overline{x}$, dizemos que a sequência está convergindo\n",
    "\n",
    "O Método das aproximações sucessivas, ou ponto fixo, consiste em reescrever a equação $f(x)=0 $ em uma equação equivalente $x = \\phi (x)$ em que $\\phi (x)$ é a chamada função de iteração. A raiz $\\overline{x}$ procurada é obtida por meio de uma sequência de de soluções aproximadas, geradas pelo processo iterativo dado por\n",
    "\n",
    "$$ x_{i+1} = \\phi(x_i) , \\,\\,\\,\\,\\, i = 0,1,2,...$$\n",
    "\n",
    "Existem muitas ormas diferentes de se obter a função de iteração, como é mostrado nos exempols a seguir.\n",
    "\n",
    "### Exemplo 1\n",
    "Seja a equação $f(x) = x^2-7x=0$, então, algumas possíveis funções de iteração são\n",
    "\n",
    "- $ x_{i+1} = \\phi(x_i) = \\sqrt{7x_i}$\n",
    "- $ x_{i+1} = \\phi(x_i) = \\frac{x_i^2}{7}$\n",
    "- $ x_{i+1} = \\phi(x_i) = x^2 - 6 $\n",
    "\n",
    "### Exemplo 2\n",
    "Seja a equação $f(x) = x^3-x-5=0$, então, algumas possíveis funções de iteração são\n",
    "\n",
    "- $ x_{i+1} = \\phi(x_i) = x_{i}^3-5$\n",
    "- $ x_{i+1} = \\phi(x_i) = \\sqrt[3]{x+5}$\n",
    "- $ x_{i+1} = \\phi(x_i) = 5/(x^2-1) $\n",
    "\n",
    "De modo geral, sempre é possível obter uma função de iteração multiplicando uma função qualquer $\\theta(x)$ pela equação $f(x)=0$ e somando $x$ a ambos os lados obtendo-se $x_{i+1} = \\phi(x_i) = f(x)\\theta(x_i)+x$.\n",
    "\n",
    "O processo iterativo gera uma sequência de soluções aproximadas a partir de uma solução inicial (\"chute\" inicial) $x_0$, como é mostrado abaixo\n",
    "\n",
    "$$x_{1} = \\phi(x_0)$$\n",
    "\n",
    "$$x_{2} = \\phi(x_1)$$\n",
    "\n",
    "$$x_{3} = \\phi(x_2)$$\n",
    "\n",
    "$$\\vdots$$\n",
    "\n",
    "$$x_{n} = \\phi(x_{n-1})\\simeq \\overline{x}$$\n",
    "\n",
    "Geometricamente, interpretamos o processo iterativo como é mostrado nas figuras abaixo, para dois casos distintos. O ponto de intersecção entre o gráfico de $\\phi(x)$ e a reta $y=x$ é o ponto cuja abcissa é a raix procurada $\\overline{x}$.\n",
    "\n",
    "<img src=\"https://github.com/tiagoburiol/NUMETHODS/raw/master/3_ZEROS_DE_FUNCOES/images/3.4_ponto_fixo_convergente.PNG\" width=\"500\">\n",
    "\n",
    "\n"
   ]
  },
  {
   "cell_type": "markdown",
   "metadata": {},
   "source": [
    "### Exemplo"
   ]
  },
  {
   "cell_type": "code",
   "execution_count": null,
   "metadata": {},
   "outputs": [],
   "source": [
    "from math import cos\n",
    "\n",
    "# Método das aproximações sucessivas (ou ponto fixo)\n",
    "#-------------------------------\n",
    "phi = lambda x: cos(x)\n",
    "#-------------------------------\n",
    "x0 = 0.7\n",
    "eps = 0.01\n",
    "#-------------------------------\n",
    "\n",
    "# Apenas inicializandoas variáveis\n",
    "err = 10.0\n",
    "x_ant = x0\n",
    "i = 0\n",
    "\n",
    "print \"teste\"\n",
    "\n",
    "while err>eps:\n",
    "    x = phi(x_ant)\n",
    "    err = abs(x-x_ant)/abs(x)\n",
    "    x_ant = x\n",
    "    i=i+1\n",
    "    print (i, \"| x=%.9f\"%x, \"| err=%.9f\"%err)"
   ]
  },
  {
   "cell_type": "markdown",
   "metadata": {},
   "source": [
    "### Exemplo"
   ]
  },
  {
   "cell_type": "code",
   "execution_count": null,
   "metadata": {},
   "outputs": [],
   "source": [
    "import math\n",
    "\n",
    "x = -1.5\n",
    "err = 10.0\n",
    "x_ant = x\n",
    "\n",
    "while err>0.0001:\n",
    "    \n",
    "    x = math.sin(x)+2*x+2\n",
    "    \n",
    "    err = abs(x-x_ant)/abs(x)\n",
    "    \n",
    "    x_ant = x\n",
    "    \n",
    "    print (\"| x=%.9f\"%x, \"| err=%.9f\"%err)"
   ]
  },
  {
   "cell_type": "code",
   "execution_count": null,
   "metadata": {},
   "outputs": [],
   "source": []
  },
  {
   "cell_type": "code",
   "execution_count": null,
   "metadata": {},
   "outputs": [],
   "source": []
  }
 ],
 "metadata": {
  "kernelspec": {
   "display_name": "Python 3",
   "language": "python",
   "name": "python3"
  },
  "language_info": {
   "codemirror_mode": {
    "name": "ipython",
    "version": 3
   },
   "file_extension": ".py",
   "mimetype": "text/x-python",
   "name": "python",
   "nbconvert_exporter": "python",
   "pygments_lexer": "ipython3",
   "version": "3.6.4"
  }
 },
 "nbformat": 4,
 "nbformat_minor": 2
}

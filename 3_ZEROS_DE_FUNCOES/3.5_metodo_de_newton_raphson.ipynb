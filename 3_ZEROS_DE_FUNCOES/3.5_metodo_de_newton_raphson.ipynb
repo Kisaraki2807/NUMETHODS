{
 "cells": [
  {
   "cell_type": "markdown",
   "metadata": {},
   "source": [
    "# 3.5 Método de Newton-Raphson\n",
    "\n",
    "Muitos problemas em ciências e engenharia envolvem a resolução de uma equação que pode ser colocada na forma \n",
    "\n",
    "$$f(x)=0$$\n",
    "\n",
    "Em muitos casos, a solução exata $\\overline{x}$ só pode ser encontrada por processos numéricos. Uma solução numérica é geralmente obtida por meio de um processo iterativo que gera uma sequência de soluções aproximadas, que converge para a solução exata, a partir de uma aproximação inicial $x_0$. \n",
    "\n",
    "O **Método de Newton** para zeros de funções reais de uma variável basea-se no Método do Ponto Fixo e consiste em encontrar uma função de interação $\\Phi(x)$ tal que $|\\Phi'(x)|<1$. Dessa forma, escolhendo-se uma \"boa\" aproximação inicial $x_0$ garantimos que a sequência de soluções aproximadas irá convergir para a solução exata $\\overline{x}$.\n",
    "\n",
    "Para isso, estabelecemos que $|\\Phi'(x)|=0$ e escrevemos \n",
    "\n",
    "$$\\Phi(x) = x+\\theta(x)f(x)$$ \n",
    "\n",
    "onde $\\theta(x)$ é uma função de $x$ tal que $\\theta(\\overline{x})\\neq 0$. Então, para o ponto fixo $x=\\overline{x}$ tem-se $\\Phi(\\overline{x}) = \\overline{x}$. Assim, derivando a função $\\Phi(x)$ e avaliando no ponto fixo obtemos:\n",
    "\n",
    "$$\\Phi(x) = x+\\theta(x)f(x)$$\n",
    "\n",
    "$$\\Phi'(x) = 1+\\theta'(x)f(x) + \\theta(x)f'(x)$$\n",
    "\n",
    "avaliando em $\\overline{x}$\n",
    "\n",
    "$$\\Phi'(\\overline{x}) = 1+\\theta'(\\overline{x})f(\\overline{x}) + \\theta(\\overline{x})f'(\\overline{x})$$\n",
    "\n",
    "\n",
    "$$ 0 = 1 + \\theta(\\overline{x})f'(\\overline{x}) $$\n",
    "\n",
    "ou \n",
    "\n",
    "$$  \\theta(\\overline{x}) = -\\frac{1}{f'(\\overline{x})} $$\n",
    "\n",
    "Assim, escolhento $\\theta(x) = -\\frac{1}{f'(x)}$ e substituindo em $\\Phi(x) = x+\\theta(x)f(x)$ obtemos\n",
    "\n",
    "$$ \\Phi(x) = x - \\frac{f(x)}{f'(x)}$$\n",
    "\n",
    "que fornece o processo iterativo do método de Newton:\n",
    "\n",
    "$$ \\Phi(x_{i+1}) = x_i - \\frac{f(x_i)}{f'(x_i)}$$\n",
    "\n",
    "A cada iteração, o ponto $x_{i+1}$ corresponde à intersecção da reta tangente à função $f(x)$ no ponto \n",
    "$(x_i, f(x_i))$, assim, o método de Newton pode ser interpretado geometricamente como mostra a figura abaixo.\n",
    "\n",
    "\n"
   ]
  },
  {
   "cell_type": "code",
   "execution_count": null,
   "metadata": {},
   "outputs": [],
   "source": []
  }
 ],
 "metadata": {
  "kernelspec": {
   "display_name": "Python 3",
   "language": "python",
   "name": "python3"
  },
  "language_info": {
   "codemirror_mode": {
    "name": "ipython",
    "version": 3
   },
   "file_extension": ".py",
   "mimetype": "text/x-python",
   "name": "python",
   "nbconvert_exporter": "python",
   "pygments_lexer": "ipython3",
   "version": "3.6.4"
  }
 },
 "nbformat": 4,
 "nbformat_minor": 2
}

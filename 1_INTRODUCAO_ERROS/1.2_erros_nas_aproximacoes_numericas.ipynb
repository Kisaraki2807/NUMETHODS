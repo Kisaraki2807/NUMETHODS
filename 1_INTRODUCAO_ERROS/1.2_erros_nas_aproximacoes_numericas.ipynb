{
 "cells": [
  {
   "cell_type": "markdown",
   "metadata": {
    "collapsed": true
   },
   "source": [
    "# 1.2 Erros nas aproximações numéricas\n",
    "\n",
    "Uma solução numérica para um problema físico é uma solução aproximada. A diferença entre a solução exata e a solução aproximada é chamada de erro e é inerente ao processo, raramente pode ser evitada.\n",
    "\n",
    "   Os erros podem ocorrer na fase de modelagem matemática, devido a simplificações e a imprecisão nos dados, quanto na fase de resolução, no processo de conversão de base e devido à limitações da máquina em armazenar um número muito grande de dígitos (**erros de arredondamento**). Ou, também na aproximação de funções, como quando são representadas por séries (**erro de truncamento**).  \n",
    "\n"
   ]
  },
  {
   "cell_type": "markdown",
   "metadata": {},
   "source": [
    "Dizemos que um número $n_r$ na base decimal foi arredondado na posição $k$ se todos os dígitos de ordem maior que $k$ forem descartados segundo o seguinte critério:\n",
    "\n",
    " - O dígito de ordem $k$ é acrescido de uma unidade se o de ordem $(k + 1)$ for maior ou igual a metade da base\n",
    " - do contrário, o número $nr$ é representado com os $k$ dígitos iniciais.\n"
   ]
  },
  {
   "cell_type": "markdown",
   "metadata": {},
   "source": [
    "### Exemplo\n",
    "\n",
    "Consideremos o sistema $ SPF (b, n, exp_{min} , exp_{max}) = SPF (10, 4, −5, 5) $\n",
    "\n",
    "a) Se $a=0.5324 \\times 10^3$ e $b=0.4212 \\times 10^{−2}$, então $a \\times b = 0.22424688 \\times 10^1$, que é arredondado e armazenado como $a \\times b = 0.2242 \\times 10^1$.\n",
    "\n",
    "b) Se $a=0.5324 \\times 10^3$ e $b=0.1237 \\times 10^{2}$, então $a + b = 0.54477 \\times 10^3$, que é arredondado e armazenado como $a + b = 0.5448 \\times 10^3$.\n"
   ]
  },
  {
   "cell_type": "code",
   "execution_count": null,
   "metadata": {
    "collapsed": true
   },
   "outputs": [],
   "source": []
  }
 ],
 "metadata": {
  "kernelspec": {
   "display_name": "Python 3",
   "language": "python",
   "name": "python3"
  },
  "language_info": {
   "codemirror_mode": {
    "name": "ipython",
    "version": 3
   },
   "file_extension": ".py",
   "mimetype": "text/x-python",
   "name": "python",
   "nbconvert_exporter": "python",
   "pygments_lexer": "ipython3",
   "version": "3.5.1"
  }
 },
 "nbformat": 4,
 "nbformat_minor": 1
}

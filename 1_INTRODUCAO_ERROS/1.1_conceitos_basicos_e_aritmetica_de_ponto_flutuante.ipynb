{
 "cells": [
  {
   "cell_type": "markdown",
   "metadata": {},
   "source": [
    "# 1.1 Conceitos básicos e Aritmética de Ponto Flutuante\n",
    "\n",
    "## Introdução\n",
    "De modo geral, a resolução de um problema de engenharia passa necessariamente por 3 etapas distintas\n",
    "1. observação e entendimento do(s) fenômeno(s) envolvido(s);\n",
    "2. construção de um modelo matemático que represente o problema;\n",
    "3. a resolução do modelo matemático por métodos numéricos ou analíticos.\n",
    "\n",
    "As duas primeiras etapas consistem na **fase de modelagem** e a terceira é a **fase de resolução**. Tanto na fase de modelagem quanto na fase de resolução podem ocorrer erros, mesmo que esses erros não tornem a resposta obtida inválida ou inútil. Em geral busca-se uma solução aproximada, dentro de uma precisão pré-estabelecida.\n",
    "\n",
    "![erros.png](https://github.com/tiagoburiol/NUMETHODS/raw/master/1_INTRODUCAO_ERROS/imagens/erros.png)\n",
    "\n",
    "Os erros na fase de modelagem podem ser decorrentes de medições imprecisas, erros de anotação, simplificações e deduções equivocadas. Os erros na fase de resolução ocorrem devido a erros de cálculo, escolha de um método ineficiente, aproximações ou processamento numérico. Dizemos que métodos analíticos de resolução geram soluções exatas e métodos numéricos geram soluções aproximadas. \n",
    "\n",
    "A maioria dos problemas envolvendo fenômenos reais produzem modelos matemáticos cuja solução analítica é difícil (ou impossível) de se obter, mesmo quando provamos que a solução existe. Nesses casos usamos **métodos numéricos**, os quais fornecem **soluções aproximadas**, que apesar de, em geral, serem diferentes da solução exata, podem ser suficientemete próximas para que sejam úteis em aplicações práticas.  \n",
    "\n",
    "Os métodos numéricos são especialmente úteis quando utilizamos computadores para realizar o processamento numérico. No entanto a representação de números reais nas máquinas é feita, geralmente, utilizando o sistema de ponto flutuante e base binária. Ou seja, os números reais são armazenados em um conjunto fixo de bits. Cada bit pode assumir somente dois valores, 0 ou 1, corte ou passagem de energia, respectivamente.\n",
    "\n",
    "\n",
    "\n",
    "\n",
    "\n",
    "\n",
    "\n",
    "A seguir apresentamos dois exemplos de problemas reais, cojos modelos matemáticos são solucionados numericamente, para isso aproximações precisam ser feitas. \n"
   ]
  },
  {
   "cell_type": "markdown",
   "metadata": {
    "collapsed": true
   },
   "source": [
    "### EXEMPLO 1###\n",
    "Uma esfera de madeira (densidade relativa $\\mu_e =0,638$ e raio $r=10 cm$) é colocada a flutuar sobre a água (densidade relativa $\\mu=1$), conforme figura. Qual é a altura $d$ da esfera que ficará submersa? \n",
    "\n",
    "![esfera.png](https://github.com/tiagoburiol/NUMETHODS/raw/master/1_INTRODUCAO_ERROS/imagens/esfera.png\n",
    ")\n",
    "\n",
    "### Solução###\n",
    "Inicialmente, observemos que, pelo *Princípio de Arquimedes* o peso da esfera deve ser equilibrado com o peso do volume de água deslocada \n",
    "\n",
    "$$ M_e g = M_a g $$\n",
    "\n",
    "$$ \\mu_e \\frac{4 \\pi r^3}{3} = \\mu_a \\int_0^d \\pi \\left[r^2-(x-r)^2) \\right]dx $$\n",
    "\n",
    "$$ \\mu_e \\frac{4 \\pi r^3}{3} = \\mu_a \\frac{\\pi d^2 (3r-d)}{3}$$\n",
    "\n",
    "$$ 4 \\mu_e r^3 = \\mu_a d^2 (3r-d)$$\n",
    "\n",
    "substituindo os valores obtemos \n",
    "\n",
    "$$ d^3-30d^2+2552=0$$.\n",
    "\n",
    "A solução analítica para esse problema pode ser encontrada mas é um tanto complicada. No entanto, com uma rotina podemos encontrar uma aproximação numericamente. \n",
    "\n",
    "Sabemos que a solução é um numero entre 0 e 20, então calculamos os valores da função $ f(d) = d^3-30d^2+2552 $ para valores entre 0 e 20 obtendo:\n"
   ]
  },
  {
   "cell_type": "code",
   "execution_count": 4,
   "metadata": {},
   "outputs": [
    {
     "name": "stdout",
     "output_type": "stream",
     "text": [
      "0 2552\n",
      "1 2523\n",
      "2 2440\n",
      "3 2309\n",
      "4 2136\n",
      "5 1927\n",
      "6 1688\n",
      "7 1425\n",
      "8 1144\n",
      "9 851\n",
      "10 552\n",
      "11 253\n",
      "12 -40\n",
      "13 -321\n",
      "14 -584\n",
      "15 -823\n",
      "16 -1032\n",
      "17 -1205\n",
      "18 -1336\n",
      "19 -1419\n"
     ]
    }
   ],
   "source": [
    "for d in range(20):\n",
    "    print (d, d**3-30*d**2+2552)"
   ]
  },
  {
   "cell_type": "markdown",
   "metadata": {},
   "source": [
    "Observemos que a função moda de sinal entre $d=11$ e $d=12$, então podemos refinar a aproximação gerando alguns valores entre 11 e 12."
   ]
  },
  {
   "cell_type": "code",
   "execution_count": 6,
   "metadata": {},
   "outputs": [
    {
     "name": "stdout",
     "output_type": "stream",
     "text": [
      "11.0 253.0\n",
      "11.1 223.33100000000013\n",
      "11.2 193.72800000000007\n",
      "11.3 164.19700000000012\n",
      "11.4 134.7439999999997\n",
      "11.5 105.375\n",
      "11.6 76.09599999999955\n",
      "11.7 46.912999999999556\n",
      "11.8 17.831999999999425\n",
      "11.9 -11.141000000000076\n"
     ]
    }
   ],
   "source": [
    "for x in range(10):\n",
    "    d = 11+x*0.1\n",
    "    print (d, d**3-30*d**2+2552)"
   ]
  },
  {
   "cell_type": "markdown",
   "metadata": {},
   "source": [
    "Observemos que a função muda de sinal entre $d=11.8$ e $d=11.9$, então podemos refinar a aproximação gerando alguns valores."
   ]
  },
  {
   "cell_type": "code",
   "execution_count": 7,
   "metadata": {},
   "outputs": [
    {
     "name": "stdout",
     "output_type": "stream",
     "text": [
      "11.8 17.831999999999425\n",
      "11.81 14.929740999999922\n",
      "11.82 12.028567999999723\n",
      "11.83 9.128486999999495\n",
      "11.84 6.229503999999906\n",
      "11.850000000000001 3.3316249999998035\n",
      "11.860000000000001 0.43485599999894475\n",
      "11.870000000000001 -2.4607969999997295\n",
      "11.88 -5.355328000000554\n",
      "11.89 -8.248731000000134\n"
     ]
    }
   ],
   "source": [
    "for x in range(10):\n",
    "    d = 11.8+x*0.01\n",
    "    print (d, d**3-30*d**2+2552)"
   ]
  },
  {
   "cell_type": "markdown",
   "metadata": {},
   "source": [
    "Assim, podemos tomar como uma solução aproximada o ponto médio entre 11.86 e 11.87 que resolta em $d=11.865 cm$ com erro inferior a 0.005."
   ]
  },
  {
   "cell_type": "markdown",
   "metadata": {},
   "source": [
    "### EXEMPLO 2\n",
    "\n",
    "Um corpo em queda livre pode ser descrito pelo modelo matemático\n",
    "\n",
    "$$ \\frac{dv}{dt} = \\frac{F}{m}$$\n",
    "\n",
    "derivado da 2ª Lei de Newton $F=ma$. A força #F# atuante sobre o corpo composta pela soma de duas forças de mesma direção e sentidos opostos, a força gravitacional para baixo ($F_D$) e a força da resistência do ar para cima ($F_U$). Então\n",
    "\n",
    "$$ \\frac{dv}{dt} = \\frac{(F_D+F_U)}{m}$$\n",
    "\n",
    "como $F_D = mg$, com $m$ massa e $g$ aceleração da gravidade, e $F_U=-cv$, com $c$ sendo uma constante que depende das características do corpo em queda livre e $v$ a velocidade instantânea. Então\n",
    "\n",
    "$$ \\frac{dv}{dt} = \\frac{mg-cv}{m}$$\n",
    "\n",
    "ou\n",
    "\n",
    "$$ \\frac{dv}{dt} = g-\\frac{c}{m}v$$\n",
    "\n",
    "O modelo então consiste em uma equação diferencial cuja solução pode ser obtida analitivamente. Se o corpo em queda livre entrou em movimento a partir do repouso, ou seja, $v=0$ em $t=0$, a sulução analítica é dada por\n",
    "\n",
    "$$ v(t) = gm(1-e^{(-c/m)t})$$\n",
    "\n",
    "Se considerarmos $m=61,8kg$ entrando em movimento de queda livre a partir do repouso $v(t)=0$ em $t=0$ e o coeficiente de arrasto $c=12.5k g/s$, a solução fica\n",
    "\n",
    "$$v(t)=\\frac{9,81(68,1)}{12,5}(1-e^{(-12,5/68,1)t} = 53,44(1-e^{-0,18355t})$$\n",
    "\n",
    "Assim, podemos obter o valor da velocidade para qualquer instante $t$. Tomando valores de $t$ de a cada 2 segundos, e calculando a velocidade a partir de $t=0$ obtemos\n"
   ]
  },
  {
   "cell_type": "code",
   "execution_count": 57,
   "metadata": {},
   "outputs": [
    {
     "name": "stdout",
     "output_type": "stream",
     "text": [
      "[ 0  2  4  6  8 10 12 14 16 18 20 22 24 26 28 30 32 34 36 38 40 42 44 46\n",
      " 48]\n",
      "[ 0.         16.41995476 27.79472025 35.67447948 41.13310679 44.91451827\n",
      " 47.53405465 49.34871325 50.60580051 51.47663561 52.07989823 52.4978026\n",
      " 52.78730183 52.98784963 53.12677718 53.22301791 53.28968775 53.33587264\n",
      " 53.36786677 53.3900304  53.40538404 53.41602013 53.42338817 53.42849232\n",
      " 53.43202816]\n"
     ]
    },
    {
     "data": {
      "image/png": "[encoded data removed]",
      "text/plain": [
       "<matplotlib.figure.Figure at 0x1c093ed5e80>"
      ]
     },
     "metadata": {},
     "output_type": "display_data"
    }
   ],
   "source": [
    "import numpy as np\n",
    "import matplotlib.pyplot as plt\n",
    "\n",
    "t = np.arange(0,50, 2)\n",
    "v = lambda t: 53.44*(1-np.exp(-0.18355*t))\n",
    "print (t)\n",
    "print (v(t))\n",
    "plt.plot(t, v(t),\"b-\")\n",
    "plt.grid()\n",
    "plt.show()\n"
   ]
  },
  {
   "cell_type": "markdown",
   "metadata": {},
   "source": [
    "Por outro lado, supondo que a solução analítica não fosse conhecida (ou que fosse impossível obtê-la), poderíamos encontrar uma solução aproximada numericamente. Para isso podemos aproximar a derivada $\\frac{dv}{dt}$ por\n",
    "\n",
    "$$ \\frac{dv}{dt} \\cong \\frac{\\Delta v}{\\Delta t} = \\frac{v(t_{i+1}-v(t_i))}{t_{i+1}-t_{i}} $$\n",
    "\n",
    "então \n",
    "\n",
    "$$ \\frac{v(t_{i+1}-v(t_i))}{t_{i+1}-t_{i}} = gm(1-e^{(-c/m)t})$$\n",
    "\n",
    "que pode ser reescrita como\n",
    "\n",
    "$$ v(t_{i+1}) = v(t_i) + \\left[ g-\\frac{c}{m} v(t_i) \\right] (t_{i+1}-t_{i})$$\n",
    "\n",
    "e ser usada para obter os valores de $v$ para cada instante $t_i$, $i=0,2,4,6,...$, a partir do instante inicial $t_0=0$."
   ]
  },
  {
   "cell_type": "markdown",
   "metadata": {},
   "source": [
    "import numpy as np\n",
    "import matplotlib.pyplot as plt\n",
    "\n",
    "tempos = np.arange(0,50, 2)\n",
    "\n",
    "v_aprox = [0.]\n",
    "v_ant = 0.\n",
    "\n",
    "for t in tempos:\n",
    "    result = v_ant + (9.81 - (12.5/68.1)*v_ant)*2\n",
    "    v_aprox.append(result)\n",
    "    v_ant = result\n",
    "    \n",
    "del v_aprox[-1]\n",
    "    \n",
    "print (tempos)\n",
    "print (v_aprox)\n",
    "\n",
    "plt.plot(tempos, v_aprox, \"r-\")\n",
    "plt.grid()\n",
    "plt.show()"
   ]
  },
  {
   "cell_type": "code",
   "execution_count": 58,
   "metadata": {},
   "outputs": [
    {
     "data": {
      "image/png": "[encoded data removed]",
      "text/plain": [
       "<matplotlib.figure.Figure at 0x1c093ec8a58>"
      ]
     },
     "metadata": {},
     "output_type": "display_data"
    }
   ],
   "source": [
    "# Comparando os dois gráficos\n",
    "plt.plot(tempos, v_aprox, \"b-\", tempos, v(tempos), \"r-\")\n",
    "plt.grid()"
   ]
  },
  {
   "cell_type": "code",
   "execution_count": null,
   "metadata": {},
   "outputs": [],
   "source": []
  }
 ],
 "metadata": {
  "kernelspec": {
   "display_name": "Python 3",
   "language": "python",
   "name": "python3"
  },
  "language_info": {
   "codemirror_mode": {
    "name": "ipython",
    "version": 3
   },
   "file_extension": ".py",
   "mimetype": "text/x-python",
   "name": "python",
   "nbconvert_exporter": "python",
   "pygments_lexer": "ipython3",
   "version": "3.6.4"
  }
 },
 "nbformat": 4,
 "nbformat_minor": 1
}

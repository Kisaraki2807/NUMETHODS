{
 "cells": [
  {
   "cell_type": "markdown",
   "metadata": {},
   "source": [
    "# 1.1 Conceitos básicos e Aritmética de Ponto Flutuante\n",
    "\n",
    "## Introdução\n",
    "De modo geral, a resolução de um problema de engenharia passa necessariamente por 3 etapas distintas\n",
    "1. observação e entendimento do(s) fenômeno(s) envolvido(s);\n",
    "2. construção de um modelo matemático que represente o problema;\n",
    "3. a resolução do modelo matemático por métodos numéricos ou analíticos.\n",
    "\n",
    "As duas primeiras etapas consistem na **fase de modelagem** e a terceira é a **fase de resolução**. Tanto na fase de modelagem quanto na fase de resolução podem ocorrer erros, mesmo que esses erros não tornem a resposta obtida inválida ou inutilizável. "
   ]
  },
  {
   "cell_type": "code",
   "execution_count": null,
   "metadata": {
    "collapsed": true
   },
   "outputs": [],
   "source": []
  }
 ],
 "metadata": {
  "kernelspec": {
   "display_name": "Python 3",
   "language": "python",
   "name": "python3"
  },
  "language_info": {
   "codemirror_mode": {
    "name": "ipython",
    "version": 3
   },
   "file_extension": ".py",
   "mimetype": "text/x-python",
   "name": "python",
   "nbconvert_exporter": "python",
   "pygments_lexer": "ipython3",
   "version": "3.5.1"
  }
 },
 "nbformat": 4,
 "nbformat_minor": 0
}

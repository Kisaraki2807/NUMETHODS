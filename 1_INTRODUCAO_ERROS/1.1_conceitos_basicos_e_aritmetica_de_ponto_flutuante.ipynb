{
 "cells": [
  {
   "cell_type": "markdown",
   "metadata": {},
   "source": [
    "# 1.1 Conceitos básicos e Aritmética de Ponto Flutuante\n",
    "\n",
    "## Introdução\n",
    "De modo geral, a resolução de um problema de engenharia passa necessariamente por 3 etapas distintas\n",
    "1. observação e entendimento do(s) fenômeno(s) envolvido(s);\n",
    "2. construção de um modelo matemático que represente o problema;\n",
    "3. a resolução do modelo matemático por métodos numéricos ou analíticos.\n",
    "\n",
    "As duas primeiras etapas consistem na **fase de modelagem** e a terceira é a **fase de resolução**. Tanto na fase de modelagem quanto na fase de resolução podem ocorrer erros, mesmo que esses erros não tornem a resposta obtida inválida ou inútil. Em geral busca-se uma solução aproximada, dentro de uma precisão pré-estabelecida.\n",
    "\n",
    "<img src=\"https://github.com/tiagoburiol/NUMETHODS/raw/master/1_INTRODUCAO_ERROS/imagens/erros.png\" width=\"400\">\n",
    "\n",
    "Os erros na fase de modelagem podem ser decorrentes de medições imprecisas, erros de anotação, simplificações e deduções equivocadas. Os erros na fase de resolução ocorrem devido a erros de cálculo, escolha de um método ineficaz, aproximações numéricas ou arredondamentos. Dizemos que métodos analíticos de resolução geram soluções exatas e métodos numéricos geram soluções aproximadas. \n",
    "\n",
    "A maioria dos problemas envolvendo fenômenos reais produzem modelos matemáticos cuja solução analítica é difícil (ou impossível) de se obter, mesmo quando provamos que a solução existe. Nesses casos usamos **métodos numéricos**, os quais fornecem **soluções aproximadas**, que apesar de, em geral, serem diferentes da solução exata, podem ser suficientemete próximas para que sejam úteis em suas aplicações.  \n",
    "\n",
    "Os métodos numéricos são especialmente úteis quando utilizamos computadores para realizar o processamento numérico. No entanto a representação de números reais nas máquinas é feita, geralmente, utilizando o sistema de ponto flutuante normalizado e base binária. Ou seja, os números reais são armazenados em um conjunto fixo de bits. Cada bit pode assumir somente dois valores, 0 ou 1 (corte ou passagem de energia, respectivamente). \n",
    "\n",
    "Por exemplo, o número $0.125$, na base decimal, pode ser escrito como \n",
    "\n",
    "$$0.125 = 1/10 + 2/100 + 5/1000$$\n",
    "\n",
    "da mesma forma que a fração binária, de valor idêntico, $0.001$ pode ser escrita como \n",
    "\n",
    "$$ 0.001 = 0/2+0/4+1/8$$\n",
    "\n",
    "em que os denominadores das parcelas são potencias de $2$.\n",
    "\n",
    "No sistema de ponto flutuante normalizado (SPFN), um número é representado pela sua parte fracionária, expoente da base e sinal, como é ilustrado na figura abaixo\n",
    "\n",
    "<img src=\"https://github.com/tiagoburiol/NUMETHODS/raw/master/1_INTRODUCAO_ERROS/imagens/floatstructure.png\" width=\"360\">\n",
    "\n",
    "O padrão IEEE 754 é atualmente o mais utilizado para representar números reais. Na precisão  <span style=\"font-family: courier;\">float</span> usa 32 bits, para a parte fracionária, 8 bits para o expoente e 1 bit para o sinal. Na precisão <span style=\"font-family: courier;\">double</span>, usa 52 bits, para a parte fracionária, 11 bits para o expoente e 1 bit para o sinal, o que permite representar valores entre  $2^{-1022}$ até $2^{1023}$. Alguns exemplos de representações do numero zero, infinito e \"não número\".\n",
    "\n",
    "<img src=\"https://github.com/tiagoburiol/NUMETHODS/raw/master/1_INTRODUCAO_ERROS/imagens/tabelafloat.gif\" width=\"400\">\n",
    "\n",
    "Alguns exemplos de tipos de dados disponíveis no módulo numérico **Numpy** (numpy.org) são mostrados abaixo para o caso de um \n",
    "\n",
    "<img src=\"https://github.com/tiagoburiol/NUMETHODS/raw/master/1_INTRODUCAO_ERROS/imagens/datatypes.png\" width=\"400\">\n",
    "\n",
    "Alguns números, como os irracionais ou a fração 1/3, por exemplo, têm representações fracionárias com infinitas casas decimais. Então, para serem computados precisam ser truncados ou arredondados. Além disso, alguns números com representação decimal finita, possuem representação binária infinita, e vice versa. Assim, erros de arredondamento podem ocorrer no processo de conversão entre bases e, também, nas operações aritméticas de ponto flutuante. \n",
    "\n",
    "## Conversão entre bases\n",
    "Dado um número real, $N$, é sempre possível representá-lo em qualquer base $b$ \n",
    "\n",
    "\n",
    "\n"
   ]
  },
  {
   "cell_type": "code",
   "execution_count": null,
   "metadata": {},
   "outputs": [],
   "source": []
  }
 ],
 "metadata": {
  "kernelspec": {
   "display_name": "Python 3",
   "language": "python",
   "name": "python3"
  },
  "language_info": {
   "codemirror_mode": {
    "name": "ipython",
    "version": 3
   },
   "file_extension": ".py",
   "mimetype": "text/x-python",
   "name": "python",
   "nbconvert_exporter": "python",
   "pygments_lexer": "ipython3",
   "version": "3.6.4"
  }
 },
 "nbformat": 4,
 "nbformat_minor": 1
}

{
 "cells": [
  {
   "cell_type": "markdown",
   "metadata": {},
   "source": [
    "# O Básico Sobre Python\n",
    "\n",
    "\n",
    "\n",
    "## Tipos de dados e operações básicas\n",
    "\n",
    "Os tipos de dados primitivos (já embutidos no núcleo da linguagem) disponíveis em Python podem ser simples: números (int, long, float, complex) ou cadeias de caracteres (strings), ou compostos: listas, dicionários, tuplas e conjuntos. Além dos tipos primitivos, existem os tipos de dados que são definidos pelo usuário. \n",
    "\n",
    "Os dados são armazenados em **variáveis** e podem ser processados usando funções ou operadores. Python usa *tipagem dinâmica*, o que significa que uma variável pode mudar o tipo do dado que armazena dinamicamente. O exemplo abaixo mostra algumas operações e mudança do tipo de dados armazenados.\n",
    "\n",
    "**EXEMPLO 1**"
   ]
  },
  {
   "cell_type": "code",
   "execution_count": 5,
   "metadata": {
    "collapsed": false
   },
   "outputs": [
    {
     "name": "stdout",
     "output_type": "stream",
     "text": [
      "Tipo do dado em a: <class 'int'>\n",
      "Tipo do dado em b: <class 'float'>\n",
      "7.4\n",
      "0.6666666666666666\n"
     ]
    }
   ],
   "source": [
    "a = 3\n",
    "print (\"Tipo do dado em a:\",type(a))\n",
    "\n",
    "b = 2.2\n",
    "print (\"Tipo do dado em b:\",type(b))\n",
    "\n",
    "c = a + 2*b\n",
    "print (c)"
   ]
  },
  {
   "cell_type": "markdown",
   "metadata": {},
   "source": [
    "Os operadores aritméticos usados em python são"
   ]
  },
  {
   "cell_type": "markdown",
   "metadata": {},
   "source": [
    "Além dos tipos numéricos simples, as listas e tuplas são bastante úteis em computação numérica. \n",
    "\n",
    "**EXEMPLO 2**"
   ]
  },
  {
   "cell_type": "code",
   "execution_count": 12,
   "metadata": {
    "collapsed": false
   },
   "outputs": [
    {
     "name": "stdout",
     "output_type": "stream",
     "text": [
      "5\n"
     ]
    }
   ],
   "source": [
    "l = [2, -1, 4]\n",
    "print (sum(l))"
   ]
  },
  {
   "cell_type": "markdown",
   "metadata": {},
   "source": [
    "## Vectors, Matrices, and Multidimensional Arrays\n",
    "\n",
    "Vetores, matrizes e _arrays_ de dimensões superiores são ferramentas essenciais na computação numérica. Quando um o cálculo deve ser repetido para um conjunto de valores de entrada, é natural e vantajoso representar o\n",
    "dados como _arrays_ e o cálculo em termos de operações entre _arrays_.\n",
    "\n",
    "Processamento computacional numérico formulado dessa forma são ditos vetorizados. A computação vetorizada elimina a necessidade de muitos _loops_ explícitos sobre os elementos da matriz, aplicando operações em blocos de dados da matriz. \n",
    "\n",
    "O resultado é um código conciso e mais fácil de entender e gerenciar, além disso, permite realizar operações em bibliotecas de baixo nível, mais eficientes. Computações vetorizadas podem, portanto, ser significativamente mais rápidas do que cálculos sequenciais elemento a elemento. \n",
    "\n",
    "Isso é particularmente importante em uma linguagem interpretada como Python, onde laços elemento a elemento resultam em uma demanda de desempenho significativa.\n",
    "\n",
    "No ambiente de computação científica do Python, estruturas de dados eficientes para trabalhar com matrizes são fornecido pela biblioteca NumPy. \n",
    "\n",
    "O núcleo do NumPy é implementado em C e fornece funções eficientes\n",
    "para manipular e processar matrizes. \n",
    "\n",
    "À primeira vista, os arrays NumPy têm alguma semelhança com o Python\n",
    "listar estrutura de dados. Mas uma diferença importante é que, enquanto as listas do Python são recipientes genéricos de objetos,\n",
    "Os arrays NumPy são homogêneos e datilografam matrizes de tamanho fixo. Homogênea significa que todos os elementos no\n",
    "array tem o mesmo tipo de dados. Tamanho fixo significa que um array não pode ser redimensionado (sem criar um novo\n",
    "array). Por essas e outras razões, as operações e funções que atuam nos arrays NumPy podem ser muito mais\n",
    "eficiente do que operações em listas do Python. Além das estruturas de dados para matrizes, o NumPy também fornece\n",
    "uma grande coleção de operadores e funções básicas que atuam nessas estruturas de dados, bem como submódulos\n",
    "com algoritmos de nível superior, como álgebra linear e transformações rápidas de Fourier.\n",
    "Neste capítulo, primeiro examinamos a estrutura de dados NumPy básica para matrizes e vários métodos para\n",
    "criar tais matrizes NumPy. Em seguida, examinamos as operações para manipular arrays e para fazer cálculos\n",
    "com matrizes. O array de dados multidimensional fornecido pelo NumPy é uma base para quase todos os\n",
    "bibliotecas para Python. Gastar tempo para se familiarizar com o NumPy e desenvolver um entendimento de como\n",
    "O trabalho do NumPy é, portanto, importante.\n"
   ]
  }
 ],
 "metadata": {
  "kernelspec": {
   "display_name": "Python 3",
   "language": "python",
   "name": "python3"
  },
  "language_info": {
   "codemirror_mode": {
    "name": "ipython",
    "version": 3
   },
   "file_extension": ".py",
   "mimetype": "text/x-python",
   "name": "python",
   "nbconvert_exporter": "python",
   "pygments_lexer": "ipython3",
   "version": "3.5.1"
  }
 },
 "nbformat": 4,
 "nbformat_minor": 0
}
